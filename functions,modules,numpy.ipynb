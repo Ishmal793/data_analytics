{
  "nbformat": 4,
  "nbformat_minor": 0,
  "metadata": {
    "colab": {
      "provenance": []
    },
    "kernelspec": {
      "name": "python3",
      "display_name": "Python 3"
    },
    "language_info": {
      "name": "python"
    }
  },
  "cells": [
    {
      "cell_type": "markdown",
      "source": [
        "# functions"
      ],
      "metadata": {
        "id": "eM3IkHq3V0Tn"
      }
    },
    {
      "cell_type": "code",
      "execution_count": null,
      "metadata": {
        "id": "J1SQaC2YVuju"
      },
      "outputs": [],
      "source": [
        "# set of code ,which once created, they can be used throughout the program\n",
        "# --> help to break our program into smaller parts\n",
        "# --> help to look more organized and manageable"
      ]
    },
    {
      "cell_type": "code",
      "source": [
        "def hello():\n",
        "  print(\"hello me !\")\n",
        "hello()"
      ],
      "metadata": {
        "colab": {
          "base_uri": "https://localhost:8080/"
        },
        "id": "usxR3UeGWZ3n",
        "outputId": "ad455f3a-2483-443c-f380-d796fe87cebb"
      },
      "execution_count": null,
      "outputs": [
        {
          "output_type": "stream",
          "name": "stdout",
          "text": [
            "hello me !\n"
          ]
        }
      ]
    },
    {
      "cell_type": "code",
      "source": [
        "def add():\n",
        "  x=12\n",
        "  y=234\n",
        "  print(x+y)\n",
        "add()"
      ],
      "metadata": {
        "colab": {
          "base_uri": "https://localhost:8080/"
        },
        "id": "xUgr-r_PW5vp",
        "outputId": "09de0710-a425-4a68-f35a-aed34fe0d5d5"
      },
      "execution_count": null,
      "outputs": [
        {
          "output_type": "stream",
          "name": "stdout",
          "text": [
            "246\n"
          ]
        }
      ]
    },
    {
      "cell_type": "code",
      "source": [
        "# parameters\n",
        "# --> are the variables written inside the parentheses with the name of function\n",
        "# arguments\n",
        "# --> values passed to the parameters while call the function"
      ],
      "metadata": {
        "id": "44Juj7ubXG_l"
      },
      "execution_count": null,
      "outputs": []
    },
    {
      "cell_type": "code",
      "source": [
        "def add(x,y):# parameters\n",
        "  print(x+y)\n",
        "add(11,24)# arguments"
      ],
      "metadata": {
        "colab": {
          "base_uri": "https://localhost:8080/"
        },
        "id": "UVTF_Y5tXL7O",
        "outputId": "39491eac-23f5-4000-e7e6-a3f6efb53d49"
      },
      "execution_count": null,
      "outputs": [
        {
          "output_type": "stream",
          "name": "stdout",
          "text": [
            "35\n"
          ]
        }
      ]
    },
    {
      "cell_type": "code",
      "source": [
        "def rect(lenght,width):\n",
        "  print(\"the area of rectangle is :\",lenght*width)\n",
        "rect(2,3)"
      ],
      "metadata": {
        "colab": {
          "base_uri": "https://localhost:8080/"
        },
        "id": "gfASoeLKX3dN",
        "outputId": "067be279-4295-4e20-8421-97537aeffb2a"
      },
      "execution_count": null,
      "outputs": [
        {
          "output_type": "stream",
          "name": "stdout",
          "text": [
            "the area of rectangle is : 6\n"
          ]
        }
      ]
    },
    {
      "cell_type": "code",
      "source": [
        "# arbitory arguments\n",
        "def hello(*name):\n",
        "  print(\"hello , my name is \",name[1])\n",
        "\n",
        "hello('lisa','jon')"
      ],
      "metadata": {
        "colab": {
          "base_uri": "https://localhost:8080/"
        },
        "id": "cHNABdySYTFk",
        "outputId": "8b2844a8-ac46-4fe4-f49c-58b9c46dfa9c"
      },
      "execution_count": null,
      "outputs": [
        {
          "output_type": "stream",
          "name": "stdout",
          "text": [
            "hello , my name is  jon\n"
          ]
        }
      ]
    },
    {
      "cell_type": "code",
      "source": [
        "# return and recursion\n",
        "# return --> exit a function"
      ],
      "metadata": {
        "id": "ds4B_R9nYqf4"
      },
      "execution_count": null,
      "outputs": []
    },
    {
      "cell_type": "code",
      "source": [
        "def hello ():\n",
        "  return (\"hello me !\")\n",
        "print(hello())"
      ],
      "metadata": {
        "colab": {
          "base_uri": "https://localhost:8080/"
        },
        "id": "8nM7OuQzZe-E",
        "outputId": "a46246d7-0138-409a-db15-79e2f2028347"
      },
      "execution_count": null,
      "outputs": [
        {
          "output_type": "stream",
          "name": "stdout",
          "text": [
            "hello me !\n"
          ]
        }
      ]
    },
    {
      "cell_type": "code",
      "source": [
        "# recursion --> function can call itself"
      ],
      "metadata": {
        "id": "XeTehRhoZoFn"
      },
      "execution_count": null,
      "outputs": []
    },
    {
      "cell_type": "code",
      "source": [
        "def hello():\n",
        "  print(\"hello\")\n",
        "  return(hello())\n",
        "print(hello())"
      ],
      "metadata": {
        "id": "MXf5AGbNaXXm"
      },
      "execution_count": null,
      "outputs": []
    },
    {
      "cell_type": "code",
      "source": [
        "# factorial\n",
        "def fac(n):\n",
        "  if n==1:\n",
        "    return 1\n",
        "  else:\n",
        "    return n*fac(n-1)\n",
        "print(fac(5))"
      ],
      "metadata": {
        "colab": {
          "base_uri": "https://localhost:8080/"
        },
        "id": "6Jqekm6PahdO",
        "outputId": "913c1975-8cb3-4fad-f96a-8ba7a873c32f"
      },
      "execution_count": null,
      "outputs": [
        {
          "output_type": "stream",
          "name": "stdout",
          "text": [
            "120\n"
          ]
        }
      ]
    },
    {
      "cell_type": "markdown",
      "source": [
        "# lambda"
      ],
      "metadata": {
        "id": "96Amh7KwbmRL"
      }
    },
    {
      "cell_type": "code",
      "source": [
        "# --> requied short period of time\n",
        "# --> take numerous arguments\n",
        "# --> have one experssion"
      ],
      "metadata": {
        "id": "XVeRMGRebp2g"
      },
      "execution_count": null,
      "outputs": []
    },
    {
      "cell_type": "code",
      "source": [
        "a=lambda x,y:x+y\n",
        "print(a(1,2))"
      ],
      "metadata": {
        "colab": {
          "base_uri": "https://localhost:8080/"
        },
        "id": "wlqqALXncCqE",
        "outputId": "c52ce3a5-0b7b-4a55-c19e-51b6a4ca2e9d"
      },
      "execution_count": null,
      "outputs": [
        {
          "output_type": "stream",
          "name": "stdout",
          "text": [
            "3\n"
          ]
        }
      ]
    },
    {
      "cell_type": "code",
      "source": [
        "a=lambda b:b*4\n",
        "print(a(4))"
      ],
      "metadata": {
        "colab": {
          "base_uri": "https://localhost:8080/"
        },
        "id": "CcR_8BFncHoh",
        "outputId": "30cb1bcc-2199-4019-9fda-14afa7ef13d6"
      },
      "execution_count": null,
      "outputs": [
        {
          "output_type": "stream",
          "name": "stdout",
          "text": [
            "16\n"
          ]
        }
      ]
    },
    {
      "cell_type": "code",
      "source": [
        "x=lambda a,b,c:(a+b)*c\n",
        "print(x(2,6,4))"
      ],
      "metadata": {
        "colab": {
          "base_uri": "https://localhost:8080/"
        },
        "id": "oZQj_zWZcQgT",
        "outputId": "8bf2caed-2587-4563-91bc-77a6c765248b"
      },
      "execution_count": null,
      "outputs": [
        {
          "output_type": "stream",
          "name": "stdout",
          "text": [
            "12\n"
          ]
        }
      ]
    },
    {
      "cell_type": "code",
      "source": [
        "# local variables\n",
        "# --> restricted to only one block or code\n",
        "# --> cannot be changed throughout the program\n",
        "# global variables\n",
        "# --> not restricted to one block of code\n",
        "# --> can be changed throughout the program\n"
      ],
      "metadata": {
        "id": "TLGPkYPccc-f"
      },
      "execution_count": null,
      "outputs": []
    },
    {
      "cell_type": "code",
      "source": [
        "x=23\n",
        "print(x)\n",
        "def hello():\n",
        "  x=25\n",
        "  return x\n",
        "print(hello())\n",
        "print(x)"
      ],
      "metadata": {
        "colab": {
          "base_uri": "https://localhost:8080/"
        },
        "id": "27WDw4-zdOb3",
        "outputId": "40c2d005-5698-4817-c686-3a404f05b0c0"
      },
      "execution_count": null,
      "outputs": [
        {
          "output_type": "stream",
          "name": "stdout",
          "text": [
            "23\n",
            "25\n",
            "23\n"
          ]
        }
      ]
    },
    {
      "cell_type": "code",
      "source": [
        "x=23\n",
        "print(x)\n",
        "def hello():\n",
        "  global x\n",
        "  x=25\n",
        "  return x\n",
        "print(hello())\n",
        "print(x)"
      ],
      "metadata": {
        "colab": {
          "base_uri": "https://localhost:8080/"
        },
        "id": "-kqT2ahIdYnV",
        "outputId": "4112b337-4244-4fbf-eb24-705d7acc9ecd"
      },
      "execution_count": null,
      "outputs": [
        {
          "output_type": "stream",
          "name": "stdout",
          "text": [
            "23\n",
            "25\n",
            "25\n"
          ]
        }
      ]
    },
    {
      "cell_type": "markdown",
      "source": [
        "# **problems**"
      ],
      "metadata": {
        "id": "oNqt-P4gdrAX"
      }
    },
    {
      "cell_type": "markdown",
      "source": [
        "**write a program to find max of three number in python**"
      ],
      "metadata": {
        "id": "x-6UrVlWdwfV"
      }
    },
    {
      "cell_type": "code",
      "source": [
        "def max(val1,val2,val3):\n",
        "  if val1>val2 and val1>val3:\n",
        "    return val1\n",
        "  elif val2>val1 and val2>val3:\n",
        "    return val2\n",
        "  else:\n",
        "    return val3\n",
        "print(max(1,7,3))"
      ],
      "metadata": {
        "colab": {
          "base_uri": "https://localhost:8080/"
        },
        "id": "79ghmxU_ewcT",
        "outputId": "d4b5d761-c79b-4b95-e27f-b3f7a212db08"
      },
      "execution_count": null,
      "outputs": [
        {
          "output_type": "stream",
          "name": "stdout",
          "text": [
            "7\n"
          ]
        }
      ]
    },
    {
      "cell_type": "markdown",
      "source": [
        "**write a python function to create and print a list where the values are square of number between 1 to 30**"
      ],
      "metadata": {
        "id": "QqWNrnsQd5M5"
      }
    },
    {
      "cell_type": "code",
      "source": [
        "def create_list():\n",
        "  list=[]\n",
        "  for i in range(1,31):\n",
        "    list.append(i**2)\n",
        "  return list\n",
        "print(create_list())"
      ],
      "metadata": {
        "colab": {
          "base_uri": "https://localhost:8080/"
        },
        "id": "54H31Fz_fLpH",
        "outputId": "055dc7f7-0556-4a3e-8a46-616c0ee39c9a"
      },
      "execution_count": null,
      "outputs": [
        {
          "output_type": "stream",
          "name": "stdout",
          "text": [
            "[1, 4, 9, 16, 25, 36, 49, 64, 81, 100, 121, 144, 169, 196, 225, 256, 289, 324, 361, 400, 441, 484, 529, 576, 625, 676, 729, 784, 841, 900]\n"
          ]
        }
      ]
    },
    {
      "cell_type": "markdown",
      "source": [
        "**write a python function that takes a number as a parameter and check if the number is prime or not**"
      ],
      "metadata": {
        "id": "BMrdnOu_eMao"
      }
    },
    {
      "cell_type": "code",
      "source": [
        "def check_prime(num):\n",
        "  if num==1:\n",
        "    return False\n",
        "  for i in range(2,num):\n",
        "    if num%i==0:\n",
        "      return False\n",
        "  return True\n",
        "print(check_prime(2))"
      ],
      "metadata": {
        "colab": {
          "base_uri": "https://localhost:8080/"
        },
        "id": "RSO47y6yfzQ2",
        "outputId": "b299143c-e08c-4abf-8430-dfc3f18e75d1"
      },
      "execution_count": null,
      "outputs": [
        {
          "output_type": "stream",
          "name": "stdout",
          "text": [
            "True\n"
          ]
        }
      ]
    },
    {
      "cell_type": "markdown",
      "source": [
        "**write a python function to sum all the numbers in a list**"
      ],
      "metadata": {
        "id": "MV9PQJcQeZdU"
      }
    },
    {
      "cell_type": "code",
      "source": [
        "def add (num):\n",
        "  sum=0\n",
        "  for i in num:\n",
        "    sum+=i\n",
        "  return sum\n",
        "print(add([1,2,3,4,5]))\n",
        "# using recursion\n",
        "def add(num):\n",
        "  if len(num)==0:\n",
        "    return 0\n",
        "  else:\n",
        "    return num[0]+add(num[1:])\n",
        "print(add([1,2,3,4,5]))"
      ],
      "metadata": {
        "colab": {
          "base_uri": "https://localhost:8080/"
        },
        "id": "tVSoIT6ggcGn",
        "outputId": "49a768eb-1f52-47e8-aa8f-5f41bda8f1cf"
      },
      "execution_count": null,
      "outputs": [
        {
          "output_type": "stream",
          "name": "stdout",
          "text": [
            "15\n",
            "15\n"
          ]
        }
      ]
    },
    {
      "cell_type": "markdown",
      "source": [
        "**write a python program to solve the fibonacci sequence using recursion**"
      ],
      "metadata": {
        "id": "5bZEPugReh_Y"
      }
    },
    {
      "cell_type": "code",
      "source": [
        "def fibonacci(num):\n",
        "  if num==1:\n",
        "    return 0\n",
        "  elif num==2:\n",
        "    return 1\n",
        "  else:\n",
        "    return fibonacci(num-1)+fibonacci(num-2)\n",
        "print(fibonacci(7))\n",
        "\n"
      ],
      "metadata": {
        "colab": {
          "base_uri": "https://localhost:8080/"
        },
        "id": "YiJ9wwbxgxnu",
        "outputId": "9a30a0dc-3b1b-4ab9-856f-e914dfba1dd2"
      },
      "execution_count": null,
      "outputs": [
        {
          "output_type": "stream",
          "name": "stdout",
          "text": [
            "8\n"
          ]
        }
      ]
    },
    {
      "cell_type": "markdown",
      "source": [
        "# modules"
      ],
      "metadata": {
        "id": "LXIHJxuiaRXl"
      }
    },
    {
      "cell_type": "code",
      "source": [
        "# modules  are the .py files\n",
        "# 200 to above modules in python we have"
      ],
      "metadata": {
        "id": "GDOU0NFGaUSX"
      },
      "execution_count": null,
      "outputs": []
    },
    {
      "cell_type": "code",
      "source": [
        "# --> in bulit modules"
      ],
      "metadata": {
        "id": "7PLN2FBGaiDv"
      },
      "execution_count": null,
      "outputs": []
    },
    {
      "cell_type": "code",
      "source": [
        "# date time\n",
        "import datetime\n",
        "x =datetime.datetime.now()\n",
        "print(x)\n",
        "y=datetime.datetime(2022,12,31)\n",
        "print(y.strftime(\"%A\"))\n",
        "print(y.strftime(\"%a\"))\n",
        "print(y.strftime(\"%m\"))\n",
        "print(y.strftime(\"%y\"))"
      ],
      "metadata": {
        "colab": {
          "base_uri": "https://localhost:8080/"
        },
        "id": "0bDWrWbCd07B",
        "outputId": "ddb83b53-c25f-45ff-bf08-fe57797f7f79"
      },
      "execution_count": null,
      "outputs": [
        {
          "output_type": "stream",
          "name": "stdout",
          "text": [
            "2025-04-15 17:23:27.438299\n",
            "Saturday\n",
            "Sat\n",
            "12\n",
            "22\n"
          ]
        }
      ]
    },
    {
      "cell_type": "code",
      "source": [
        "# random\n",
        "import random\n",
        "print(random.randint(1,10)) # random integer\n",
        "print(random.random()) # random float\n",
        "l=[\"head\",\"tail\"]\n",
        "print(random.choice(l)) # random choice\n",
        "random.shuffle(l) # shuffle\n",
        "print(l)"
      ],
      "metadata": {
        "colab": {
          "base_uri": "https://localhost:8080/"
        },
        "id": "oc4tSblVamzN",
        "outputId": "6d8cf79e-6cf5-4e49-f0cc-3adaab05c572"
      },
      "execution_count": null,
      "outputs": [
        {
          "output_type": "stream",
          "name": "stdout",
          "text": [
            "3\n",
            "0.9347277713796097\n",
            "tail\n",
            "['head', 'tail']\n"
          ]
        }
      ]
    },
    {
      "cell_type": "code",
      "source": [
        "#  math\n",
        "import math\n",
        "x=max(23,45,62,12)\n",
        "print(x)\n",
        "y=min(23,45,62,12)\n",
        "print(y)\n",
        "z=abs(-23) # absulute convert - to positive\n",
        "print(z)\n",
        "a=pow(2,3)\n",
        "print(a)\n",
        "b=math.sqrt(25)\n",
        "print(b)\n",
        "c=math.ceil(2.3)\n",
        "print(c)\n",
        "d=math.floor(2.3)\n",
        "print(d)"
      ],
      "metadata": {
        "colab": {
          "base_uri": "https://localhost:8080/"
        },
        "id": "6wBmE7IZao3O",
        "outputId": "c5a19570-4909-4db9-c67a-a16b26cede6b"
      },
      "execution_count": null,
      "outputs": [
        {
          "output_type": "stream",
          "name": "stdout",
          "text": [
            "62\n",
            "12\n",
            "23\n",
            "8\n",
            "5.0\n",
            "3\n",
            "2\n"
          ]
        }
      ]
    },
    {
      "cell_type": "markdown",
      "source": [
        "# numpy"
      ],
      "metadata": {
        "id": "bhULGfC5OwN_"
      }
    },
    {
      "cell_type": "code",
      "source": [
        "# numpy short form of Numerical python\n",
        "# defnes a multi-dimention arry\n"
      ],
      "metadata": {
        "id": "dQK5-e0QOy-O"
      },
      "execution_count": null,
      "outputs": []
    },
    {
      "cell_type": "code",
      "source": [
        "import numpy as  np\n"
      ],
      "metadata": {
        "id": "cngAAbsNg8KE"
      },
      "execution_count": null,
      "outputs": []
    },
    {
      "cell_type": "code",
      "source": [
        "l1 =[20,30,40,50]\n",
        "l2=[30,40,50,60,70]\n",
        "l3=5\n",
        "print(l1+l2)\n",
        "print(l1*l3)"
      ],
      "metadata": {
        "colab": {
          "base_uri": "https://localhost:8080/"
        },
        "id": "chDTwTDOhC70",
        "outputId": "51c34571-7c18-426e-cc29-f45792afd3a2"
      },
      "execution_count": null,
      "outputs": [
        {
          "output_type": "stream",
          "name": "stdout",
          "text": [
            "[20, 30, 40, 50, 30, 40, 50, 60, 70]\n",
            "[20, 30, 40, 50, 20, 30, 40, 50, 20, 30, 40, 50, 20, 30, 40, 50, 20, 30, 40, 50]\n"
          ]
        }
      ]
    },
    {
      "cell_type": "code",
      "source": [
        "a=np.array([20,30,40])\n",
        "b=np.array([40,50,60])\n",
        "print(a)\n",
        "print(b)\n",
        "print(a+b)\n",
        "print(a*b)"
      ],
      "metadata": {
        "colab": {
          "base_uri": "https://localhost:8080/"
        },
        "id": "6Abfy4d2hfSd",
        "outputId": "91505f64-abe5-4b4c-c2ab-bd61721040bb"
      },
      "execution_count": null,
      "outputs": [
        {
          "output_type": "stream",
          "name": "stdout",
          "text": [
            "[20 30 40]\n",
            "[40 50 60]\n",
            "[ 60  80 100]\n",
            "[ 800 1500 2400]\n"
          ]
        }
      ]
    },
    {
      "cell_type": "code",
      "source": [
        "a=np.array([30,40,\"39\"])\n",
        "print(a)"
      ],
      "metadata": {
        "colab": {
          "base_uri": "https://localhost:8080/"
        },
        "id": "v1j4Gmj1h_to",
        "outputId": "9365ad66-1973-4e9b-a12d-5a94621ff193"
      },
      "execution_count": null,
      "outputs": [
        {
          "output_type": "stream",
          "name": "stdout",
          "text": [
            "['30' '40' '39']\n"
          ]
        }
      ]
    },
    {
      "cell_type": "code",
      "source": [
        "l1=np.array([[1,2,3],[4,5,6]])\n",
        "print(l1)"
      ],
      "metadata": {
        "colab": {
          "base_uri": "https://localhost:8080/"
        },
        "id": "gWvVaOZ_iLDY",
        "outputId": "c1d88e8f-de50-4ccc-f234-cea8b63ddd8c"
      },
      "execution_count": null,
      "outputs": [
        {
          "output_type": "stream",
          "name": "stdout",
          "text": [
            "[[1 2 3]\n",
            " [4 5 6]]\n"
          ]
        }
      ]
    },
    {
      "cell_type": "code",
      "source": [
        "\n",
        "\n",
        "arra=np.array([[1,2,3,4],[5,6,7,8],[9,10,11,12]])\n",
        "print(arra)"
      ],
      "metadata": {
        "colab": {
          "base_uri": "https://localhost:8080/"
        },
        "id": "urQCgGliijx6",
        "outputId": "7f4e00a4-6eaf-4178-d3cd-3e058bcc3d86"
      },
      "execution_count": null,
      "outputs": [
        {
          "output_type": "stream",
          "name": "stdout",
          "text": [
            "[[ 1  2  3  4]\n",
            " [ 5  6  7  8]\n",
            " [ 9 10 11 12]]\n"
          ]
        }
      ]
    },
    {
      "cell_type": "code",
      "source": [
        "\n",
        "\n",
        "arr=np.array([20,30,40])\n",
        "print(arr[1])\n",
        "print(arr[:3])"
      ],
      "metadata": {
        "colab": {
          "base_uri": "https://localhost:8080/"
        },
        "id": "ZMpOBRFTkRYo",
        "outputId": "342f2382-d0aa-433c-a564-70a8286e50b1"
      },
      "execution_count": null,
      "outputs": [
        {
          "output_type": "stream",
          "name": "stdout",
          "text": [
            "30\n",
            "[20 30 40]\n"
          ]
        }
      ]
    },
    {
      "cell_type": "code",
      "source": [
        "arr=np.array([[20,30,40],[50,60,70]])\n",
        "print(arr[:2,:3])\n",
        "print(arr[0,1:]) # 0 array\n",
        "print(arr[1,1:]) # 1 array\n",
        "print( )"
      ],
      "metadata": {
        "colab": {
          "base_uri": "https://localhost:8080/"
        },
        "id": "q446u2eikqQx",
        "outputId": "24c2bf62-9736-46a9-9ae9-dbd135062cd7"
      },
      "execution_count": null,
      "outputs": [
        {
          "output_type": "stream",
          "name": "stdout",
          "text": [
            "[[20 30 40]\n",
            " [50 60 70]]\n",
            "[30 40]\n",
            "[60 70]\n",
            "\n"
          ]
        }
      ]
    },
    {
      "cell_type": "code",
      "source": [
        "arr=np.array([[20,30,40],[50,60,70],[20,30,40]])\n",
        "print(arr[2,1:])\n",
        "print(np.shape(arr)) # rows and coloum\n",
        "print(len(arr)) # no of nested value\n",
        "print(np.size(arr)) # total number of element in an array\n",
        "print(np.ndim(arr)) #\n",
        "print(arr.dtype)\n",
        "print(arr.itemsize)\n",
        "# a.astype(int) --> convert on array to a different data type\n",
        "print(arr.astype(float))"
      ],
      "metadata": {
        "colab": {
          "base_uri": "https://localhost:8080/"
        },
        "id": "MJo5JBJLlNTh",
        "outputId": "6f915ac9-b396-42fb-fa02-e2630dacf0a5"
      },
      "execution_count": null,
      "outputs": [
        {
          "output_type": "stream",
          "name": "stdout",
          "text": [
            "[30 40]\n",
            "(3, 3)\n",
            "3\n",
            "9\n",
            "2\n",
            "int64\n",
            "8\n",
            "[[20. 30. 40.]\n",
            " [50. 60. 70.]\n",
            " [20. 30. 40.]]\n"
          ]
        }
      ]
    },
    {
      "cell_type": "markdown",
      "source": [
        "**mathematical operations and functions**"
      ],
      "metadata": {
        "id": "soonyT4jr4uC"
      }
    },
    {
      "cell_type": "code",
      "source": [
        "arr=np.array([10,20,30,40,50])\n",
        "arr1=np.array([60,70,80,90,10])\n",
        "print(np.add(arr,arr1))\n",
        "print(np.subtract(arr,arr1))\n",
        "print(np.multiply(arr,arr1))\n",
        "print(np.divide(arr,arr1))\n",
        "print(np.mod(arr,arr1))\n"
      ],
      "metadata": {
        "colab": {
          "base_uri": "https://localhost:8080/"
        },
        "id": "CJV0tQw5onE7",
        "outputId": "64d5ca28-16cc-4ce0-aa96-e3201c996698"
      },
      "execution_count": null,
      "outputs": [
        {
          "output_type": "stream",
          "name": "stdout",
          "text": [
            "[ 70  90 110 130  60]\n",
            "[-50 -50 -50 -50  40]\n",
            "[ 600 1400 2400 3600  500]\n",
            "[0.16666667 0.28571429 0.375      0.44444444 5.        ]\n",
            "[10 20 30 40  0]\n"
          ]
        }
      ]
    },
    {
      "cell_type": "code",
      "source": [
        "arr=np.array([[10,20],[40,50]])\n",
        "arr1=np.array([[60,70],[90,10]])\n",
        "print(np.add(arr,arr1))\n",
        "print(np.subtract(arr,arr1))\n",
        "print(np.multiply(arr,arr1))\n",
        "print(np.divide(arr,arr1))\n",
        "print(np.mod(arr,arr1))"
      ],
      "metadata": {
        "colab": {
          "base_uri": "https://localhost:8080/"
        },
        "id": "AMh0SKEcsQpA",
        "outputId": "e74eaee5-e184-4a24-e887-71137cde8e2d"
      },
      "execution_count": null,
      "outputs": [
        {
          "output_type": "stream",
          "name": "stdout",
          "text": [
            "[[ 70  90]\n",
            " [130  60]]\n",
            "[[-50 -50]\n",
            " [-50  40]]\n",
            "[[ 600 1400]\n",
            " [3600  500]]\n",
            "[[0.16666667 0.28571429]\n",
            " [0.44444444 5.        ]]\n",
            "[[10 20]\n",
            " [40  0]]\n"
          ]
        }
      ]
    },
    {
      "cell_type": "code",
      "source": [
        "# power\n",
        "arr1=np.array([20,30,40,])\n",
        "arr2=np.array([2])\n",
        "print(np.power(arr1,arr2))"
      ],
      "metadata": {
        "id": "Evxhn5JCsra-",
        "colab": {
          "base_uri": "https://localhost:8080/"
        },
        "outputId": "d838b8dc-7ac2-44ea-c526-f36f6c5226e8"
      },
      "execution_count": null,
      "outputs": [
        {
          "output_type": "stream",
          "name": "stdout",
          "text": [
            "[ 400  900 1600]\n"
          ]
        }
      ]
    },
    {
      "cell_type": "code",
      "source": [
        "arr1=np.array([400,900,1600])\n",
        "print(np.sqrt(arr1))\n",
        "print(arr.dtype)\n"
      ],
      "metadata": {
        "colab": {
          "base_uri": "https://localhost:8080/"
        },
        "id": "9FbsALZwwIwA",
        "outputId": "fab83e6f-e261-4bc1-d607-61018ae4e447"
      },
      "execution_count": null,
      "outputs": [
        {
          "output_type": "stream",
          "name": "stdout",
          "text": [
            "[20. 30. 40.]\n",
            "int64\n"
          ]
        }
      ]
    },
    {
      "cell_type": "markdown",
      "source": [
        "**Combinig and split array**"
      ],
      "metadata": {
        "id": "Y5t50Ld9xibf"
      }
    },
    {
      "cell_type": "code",
      "source": [
        "# concatination\n",
        "arr1=np.array([10,20,30,40])\n",
        "arr2=np.array([50,60,70,80,90])\n",
        "print(np.concatenate((arr1,arr2)))\n",
        "\n"
      ],
      "metadata": {
        "colab": {
          "base_uri": "https://localhost:8080/"
        },
        "id": "8x24KXRqxGBW",
        "outputId": "0b41c960-74c7-4fcf-d1ec-4b7d0adcb3a1"
      },
      "execution_count": null,
      "outputs": [
        {
          "output_type": "stream",
          "name": "stdout",
          "text": [
            "[10 20 30 40 50 60 70 80 90]\n"
          ]
        }
      ]
    },
    {
      "cell_type": "code",
      "source": [
        "arr1=np.array([[10,20,30],[40,50,60]])\n",
        "arr2=np.array([[60,70,80],[90,10,20]])\n",
        "print(np.concatenate((arr1,arr2),axis=1))\n",
        "print(np.concatenate((arr1,arr2),axis=0))"
      ],
      "metadata": {
        "colab": {
          "base_uri": "https://localhost:8080/"
        },
        "id": "40SQxFuDx_BI",
        "outputId": "27eecaaf-0a09-41ba-bc0d-ab7e012206f7"
      },
      "execution_count": null,
      "outputs": [
        {
          "output_type": "stream",
          "name": "stdout",
          "text": [
            "[[10 20 30 60 70 80]\n",
            " [40 50 60 90 10 20]]\n",
            "[[10 20 30]\n",
            " [40 50 60]\n",
            " [60 70 80]\n",
            " [90 10 20]]\n"
          ]
        }
      ]
    },
    {
      "cell_type": "code",
      "source": [
        "print(np.hstack((arr1,arr2))) # hotizontal concatenation"
      ],
      "metadata": {
        "colab": {
          "base_uri": "https://localhost:8080/"
        },
        "id": "RvyC5cENy1M7",
        "outputId": "16f6a72d-a67c-4624-b05f-a3cf7d6ccfbb"
      },
      "execution_count": null,
      "outputs": [
        {
          "output_type": "stream",
          "name": "stdout",
          "text": [
            "[[10 20 30 60 70 80]\n",
            " [40 50 60 90 10 20]]\n"
          ]
        }
      ]
    },
    {
      "cell_type": "code",
      "source": [
        "print(np.vstack((arr1,arr2))) # vertical concatenation"
      ],
      "metadata": {
        "colab": {
          "base_uri": "https://localhost:8080/"
        },
        "id": "qKyEX52PzDnN",
        "outputId": "261241b8-e0cc-4a60-ecd4-68966af808ea"
      },
      "execution_count": null,
      "outputs": [
        {
          "output_type": "stream",
          "name": "stdout",
          "text": [
            "[[10 20 30]\n",
            " [40 50 60]\n",
            " [60 70 80]\n",
            " [90 10 20]]\n"
          ]
        }
      ]
    },
    {
      "cell_type": "code",
      "source": [
        "# split\n",
        "arr=np.array([10,20,30,40,50,60])\n",
        "print(np.array_split(arr,5))"
      ],
      "metadata": {
        "colab": {
          "base_uri": "https://localhost:8080/"
        },
        "id": "LEHAILHYziK8",
        "outputId": "1d4fa363-8702-4936-a12f-aa284c3b4fba"
      },
      "execution_count": null,
      "outputs": [
        {
          "output_type": "stream",
          "name": "stdout",
          "text": [
            "[array([10, 20]), array([30]), array([40]), array([50]), array([60])]\n"
          ]
        }
      ]
    },
    {
      "cell_type": "markdown",
      "source": [
        "**addition and emove in array**"
      ],
      "metadata": {
        "id": "aX4PWhZq0Bow"
      }
    },
    {
      "cell_type": "code",
      "source": [
        "# np.append\n",
        "# if data in 2d convert it in 1d and append it\n",
        "a=np.array([10,20,30])\n",
        "b=np.array([40,50,60])\n",
        "print(np.append(a,[23,45,56]))\n",
        "print(np.append(a,b))"
      ],
      "metadata": {
        "colab": {
          "base_uri": "https://localhost:8080/"
        },
        "id": "DO0McaYAzlMX",
        "outputId": "aaf42f5a-6f45-4c89-f19c-857a77907430"
      },
      "execution_count": null,
      "outputs": [
        {
          "output_type": "stream",
          "name": "stdout",
          "text": [
            "[10 20 30 23 45 56]\n",
            "[10 20 30 40 50 60]\n"
          ]
        }
      ]
    },
    {
      "cell_type": "code",
      "source": [
        "print(np.insert(a,2,23))"
      ],
      "metadata": {
        "colab": {
          "base_uri": "https://localhost:8080/"
        },
        "id": "5As9zbxz0IWE",
        "outputId": "f2da27a0-48bf-4961-fcb1-f4d360c2b2ed"
      },
      "execution_count": null,
      "outputs": [
        {
          "output_type": "stream",
          "name": "stdout",
          "text": [
            "[10 20 23 30]\n"
          ]
        }
      ]
    },
    {
      "cell_type": "code",
      "source": [
        "a=np.array([[10,20,30],[40,50,60]])\n",
        "print(np.insert(a,(2,3),[30,50],axis=1))\n",
        "print(np.insert(a,1,[50],axis=0))"
      ],
      "metadata": {
        "colab": {
          "base_uri": "https://localhost:8080/"
        },
        "id": "-Um1G1YJ0z0T",
        "outputId": "83f27c2c-b381-4462-bdf3-7933bfafe952"
      },
      "execution_count": null,
      "outputs": [
        {
          "output_type": "stream",
          "name": "stdout",
          "text": [
            "[[10 20 30 30 50]\n",
            " [40 50 30 60 50]]\n",
            "[[10 20 30]\n",
            " [50 50 50]\n",
            " [40 50 60]]\n"
          ]
        }
      ]
    },
    {
      "cell_type": "code",
      "source": [
        "print(np.insert(a,(2,3),[30,50],axis=1))\n",
        "print(np.insert(a,[1,2],[50],axis=0))\n",
        "print(np.insert(a,[1,2],[50],axis=1))"
      ],
      "metadata": {
        "colab": {
          "base_uri": "https://localhost:8080/"
        },
        "id": "KcVj-L8E1GwU",
        "outputId": "f1c4c31b-90a0-4207-ab31-c09e595683d0"
      },
      "execution_count": null,
      "outputs": [
        {
          "output_type": "stream",
          "name": "stdout",
          "text": [
            "[[10 20 30 30 50]\n",
            " [40 50 30 60 50]]\n",
            "[[10 20 30]\n",
            " [50 50 50]\n",
            " [40 50 60]\n",
            " [50 50 50]]\n",
            "[[10 50 20 50 30]\n",
            " [40 50 50 50 60]]\n"
          ]
        }
      ]
    },
    {
      "cell_type": "code",
      "source": [
        "a=np.array([[10,20,30],[40,50,60]])\n",
        "print(np.delete(a,1,axis=0))\n",
        "print(np.delete(a,1,axis=1))"
      ],
      "metadata": {
        "colab": {
          "base_uri": "https://localhost:8080/"
        },
        "id": "TW0_uM4QNr83",
        "outputId": "05abe5bb-0b0d-49cd-8df3-2bb918bd3b48"
      },
      "execution_count": null,
      "outputs": [
        {
          "output_type": "stream",
          "name": "stdout",
          "text": [
            "[[10 20 30]]\n",
            "[[10 30]\n",
            " [40 60]]\n"
          ]
        }
      ]
    },
    {
      "cell_type": "code",
      "source": [
        "# short\n",
        "ar=np.array([[2,3,4,1,23,5],[2,7,5,34,56,2]])\n",
        "print(np.sort(ar))"
      ],
      "metadata": {
        "colab": {
          "base_uri": "https://localhost:8080/"
        },
        "id": "s8YiVemqOVoz",
        "outputId": "8a17eb2c-92ea-4cca-fab7-c943daab8e1e"
      },
      "execution_count": null,
      "outputs": [
        {
          "output_type": "stream",
          "name": "stdout",
          "text": [
            "[[ 1  2  3  4  5 23]\n",
            " [ 2  2  5  7 34 56]]\n"
          ]
        }
      ]
    },
    {
      "cell_type": "code",
      "source": [
        "# filter\n",
        "\n",
        "arr=np.array([20,30,40,50])\n",
        "# fa=[True,False,True,False]\n",
        "# print(arr[fa]) # gives only true value\n",
        "# fa=arr>35\n",
        "fa=arr%2==0\n",
        "print(arr[fa])"
      ],
      "metadata": {
        "colab": {
          "base_uri": "https://localhost:8080/"
        },
        "id": "ErKam_nPO-VI",
        "outputId": "cc71ef02-a040-4b48-efd8-5e79d7e3b738"
      },
      "execution_count": null,
      "outputs": [
        {
          "output_type": "stream",
          "name": "stdout",
          "text": [
            "[20 30 40 50]\n"
          ]
        }
      ]
    },
    {
      "cell_type": "code",
      "source": [
        "# search\n",
        "ar=np.array([2,3,4,1,23,5])\n",
        "print(np.where(ar==2))\n",
        "print(np.where(ar%2==0))\n",
        "ar=np.array([3,4,5,2,1])\n",
        "print(np.searchsorted(ar,3))"
      ],
      "metadata": {
        "colab": {
          "base_uri": "https://localhost:8080/"
        },
        "id": "eLLvPEIIO_ep",
        "outputId": "a89f3cd7-bd68-4bb2-efff-ad07f9d7f538"
      },
      "execution_count": null,
      "outputs": [
        {
          "output_type": "stream",
          "name": "stdout",
          "text": [
            "(array([0]),)\n",
            "(array([0, 2]),)\n",
            "0\n"
          ]
        }
      ]
    },
    {
      "cell_type": "markdown",
      "source": [
        "**aggregating function**"
      ],
      "metadata": {
        "id": "ZiN0uU68RFZM"
      }
    },
    {
      "cell_type": "code",
      "source": [
        "a=np.array([20,30,40,50])\n",
        "print(np.sum(a))\n",
        "print(np.min(a))\n",
        "print(np.max(a))\n",
        "print(np.size(a)) # give us count\n",
        "print(np.mean(a))\n",
        "print(np.median(a))\n",
        "print(np.std(a))\n",
        "print(np.var(a))\n",
        "print(np.cumsum(a))\n",
        "print(np.cumprod(a))"
      ],
      "metadata": {
        "colab": {
          "base_uri": "https://localhost:8080/"
        },
        "id": "1CTKf55uPyB7",
        "outputId": "61f30bd3-5f8a-42f0-be12-40993448e2ff"
      },
      "execution_count": null,
      "outputs": [
        {
          "output_type": "stream",
          "name": "stdout",
          "text": [
            "140\n",
            "20\n",
            "50\n",
            "4\n",
            "35.0\n",
            "35.0\n",
            "11.180339887498949\n",
            "125.0\n",
            "[ 20  50  90 140]\n",
            "[     20     600   24000 1200000]\n"
          ]
        }
      ]
    },
    {
      "cell_type": "code",
      "source": [
        "a=[100,150,199,200,250,130]\n",
        "b=[10,50,30,40,30,10]\n",
        "price=np.array(a)\n",
        "quantity=np.array(b)\n",
        "print(price,\"\\n\",quantity)\n",
        "c=np.cumprod([price,quantity], axis=0)\n",
        "print(c[1].sum())"
      ],
      "metadata": {
        "colab": {
          "base_uri": "https://localhost:8080/"
        },
        "id": "0qtqdeS0RlUK",
        "outputId": "eb13b7e4-b2bb-45a7-cfb1-096b37113c69"
      },
      "execution_count": null,
      "outputs": [
        {
          "output_type": "stream",
          "name": "stdout",
          "text": [
            "[100 150 199 200 250 130] \n",
            " [10 50 30 40 30 10]\n",
            "31270\n"
          ]
        }
      ]
    },
    {
      "cell_type": "code",
      "source": [
        "# statistical functions\n",
        "baked_food=[200,250,150,190,200,280]\n",
        "a=np.array(baked_food)\n",
        "print(np.mean(baked_food))\n",
        "print(np.median(baked_food)) # central value after sorting\n"
      ],
      "metadata": {
        "colab": {
          "base_uri": "https://localhost:8080/"
        },
        "id": "nGv8XR54S0hI",
        "outputId": "4dfd71fb-92d7-4e6f-bb90-314efe678ca9"
      },
      "execution_count": null,
      "outputs": [
        {
          "output_type": "stream",
          "name": "stdout",
          "text": [
            "211.66666666666666\n",
            "200.0\n"
          ]
        }
      ]
    },
    {
      "cell_type": "code",
      "source": [
        "# mostly occire values use statistic lab\n",
        "import statistics as stats\n",
        "print(stats.mode(baked_food)) # re occuring value\n",
        "print(np.std(baked_food))\n",
        "print(np.var(baked_food)) #squre of std"
      ],
      "metadata": {
        "colab": {
          "base_uri": "https://localhost:8080/"
        },
        "id": "m8d6D4iaUxNm",
        "outputId": "724bfc5c-2c73-49bc-bffc-0cfbb85834e6"
      },
      "execution_count": null,
      "outputs": [
        {
          "output_type": "stream",
          "name": "stdout",
          "text": [
            "200\n",
            "42.19662967057388\n",
            "1780.5555555555557\n"
          ]
        }
      ]
    },
    {
      "cell_type": "code",
      "source": [
        "# -1  represent inversely proporational relationship\n",
        "# +1  represent proporational relationship\n",
        "#  = mean no relationship\n",
        "tobacoo_consumtion=[30,50,10,30,50,40]\n",
        "deaths=[100,120,70,100,120,112]\n",
        "print(np.corrcoef(tobacoo_consumtion,deaths))"
      ],
      "metadata": {
        "colab": {
          "base_uri": "https://localhost:8080/"
        },
        "id": "F9g6gN1lV_PE",
        "outputId": "f3a5e099-a06a-400e-e95e-eeb6f9674893"
      },
      "execution_count": null,
      "outputs": [
        {
          "output_type": "stream",
          "name": "stdout",
          "text": [
            "[[1.         0.99015454]\n",
            " [0.99015454 1.        ]]\n"
          ]
        }
      ]
    },
    {
      "cell_type": "code",
      "source": [
        "price=[300,100,350,150,200]\n",
        "sales=[10,20,7,17,3]\n",
        "print(np.corrcoef(price,sales))"
      ],
      "metadata": {
        "colab": {
          "base_uri": "https://localhost:8080/"
        },
        "id": "xuqK_6NyXLH4",
        "outputId": "518a3a89-a71d-40f9-b0b3-76eab36d6975"
      },
      "execution_count": null,
      "outputs": [
        {
          "output_type": "stream",
          "name": "stdout",
          "text": [
            "[[ 1.         -0.66621445]\n",
            " [-0.66621445  1.        ]]\n"
          ]
        }
      ]
    }
  ]
}