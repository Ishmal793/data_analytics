{
  "nbformat": 4,
  "nbformat_minor": 0,
  "metadata": {
    "colab": {
      "provenance": []
    },
    "kernelspec": {
      "name": "python3",
      "display_name": "Python 3"
    },
    "language_info": {
      "name": "python"
    }
  },
  "cells": [
    {
      "cell_type": "markdown",
      "source": [
        "# Pandas"
      ],
      "metadata": {
        "id": "Q7DCK_ESX9yy"
      }
    },
    {
      "cell_type": "code",
      "execution_count": null,
      "metadata": {
        "colab": {
          "base_uri": "https://localhost:8080/"
        },
        "id": "u3-ZOZFkX4Gk",
        "outputId": "cd5af5bd-1998-4b9d-f844-9290a7c7ff9f"
      },
      "outputs": [
        {
          "output_type": "stream",
          "name": "stdout",
          "text": [
            "    name  Age  Salary\n",
            "0    jon   25  300000\n",
            "1  Peter   28   45000\n",
            "2   Lisa   31   25000\n"
          ]
        }
      ],
      "source": [
        "import pandas as pd\n",
        "data={\"name\":[\"jon\",\"Peter\",\"Lisa\"],\n",
        "      \"Age\":[25,28,31],\n",
        "      \"Salary\":[300000,45000,25000]}\n",
        "df=pd.DataFrame(data)\n",
        "print(df)"
      ]
    },
    {
      "cell_type": "code",
      "source": [
        "df=pd.read_excel(\"expense3.xlsx\")\n",
        "print(df)"
      ],
      "metadata": {
        "colab": {
          "base_uri": "https://localhost:8080/"
        },
        "id": "lZcEhxI9ibGG",
        "outputId": "2affb2ab-12ec-4238-ddfb-ef90512e8ce8"
      },
      "execution_count": null,
      "outputs": [
        {
          "output_type": "stream",
          "name": "stdout",
          "text": [
            "         Date    Category       Sub-Category   Amount Payment Mode\n",
            "0  2023-01-01     Grocery             Grocery      30         Cash\n",
            "1  2023-01-02        Food          Restaurant     890          UPI\n",
            "2  2023-01-04         123              Zomato     257          NaN\n",
            "3  2023-01-06  Essentials               Diary     120          UPI\n",
            "4  2023-01-06  Essentials             Perfume    1500         Cash\n",
            "5  2023-01-09     Grocery  Fruits and Veggies     456         Cash\n",
            "6  2023-01-10       Bills          House Rent   16000          UPI\n",
            "7  2023-01-10     Grocery      Tomato KetchUp      70          UPI\n",
            "8  2023-01-12        Food                Chai      15          UPI\n",
            "9  2023-01-15  Essentials      Salt and Sugar      50          NaN\n",
            "10 2023-01-17     Grocery           Chocolate     100          UPI\n",
            "11 2023-01-17        Food          Restaurant     780         Card\n",
            "12 2023-01-18  Essentials            Food Oil     120          NaN\n",
            "13 2023-01-18        Food              Zomato     230          UPI\n",
            "14 2023-01-19     Grocery                Milk      26          UPI\n",
            "15 2023-01-20  Essentials             Shampoo     780          UPI\n",
            "16 2023-01-20  Essentials           Lunch Box     890         Cash\n",
            "17 2023-01-21     Clothes               Dress    1000          NaN\n",
            "18 2023-01-22     Clothes               Dress    1890          UPI\n",
            "19 2023-01-23     Grocery      Bread and Milk      56         Cash\n",
            "20 2023-01-24        Food  Fruits and Veggies     530         Cash\n",
            "21 2023-01-26        Food                Chai      10          UPI\n",
            "22 2023-01-26     Grocery               Maggi     140          UPI\n",
            "23 2023-01-27        Food              Zomato     300          UPI\n",
            "24 2023-01-27        Food                Chai      10          UPI\n",
            "25 2023-01-28  Essentials           Bedsheets    1025         Cash\n",
            "26 2023-01-29       Bills             Mobile     1650          UPI\n",
            "27 2023-01-29     Grocery                Daal     150         Cash\n",
            "28 2023-01-30       Bills            Cylinder    1074          UPI\n"
          ]
        }
      ]
    },
    {
      "cell_type": "code",
      "source": [
        "print(df.head())"
      ],
      "metadata": {
        "colab": {
          "base_uri": "https://localhost:8080/"
        },
        "id": "lbEZUT_JlBS9",
        "outputId": "d250efc4-75c3-4c47-a6c1-c08d5f272901"
      },
      "execution_count": null,
      "outputs": [
        {
          "output_type": "stream",
          "name": "stdout",
          "text": [
            "        Date    Category Sub-Category   Amount Payment Mode\n",
            "0 2023-01-01     Grocery       Grocery      30         Cash\n",
            "1 2023-01-02        Food    Restaurant     890          UPI\n",
            "2 2023-01-04         123        Zomato     257          NaN\n",
            "3 2023-01-06  Essentials         Diary     120          UPI\n",
            "4 2023-01-06  Essentials       Perfume    1500         Cash\n"
          ]
        }
      ]
    },
    {
      "cell_type": "code",
      "source": [
        "print(df.tail(10))"
      ],
      "metadata": {
        "colab": {
          "base_uri": "https://localhost:8080/"
        },
        "id": "8tenpKeMlFBJ",
        "outputId": "9e1fbea6-4bf6-4176-c1c5-ed13a9d1e78b"
      },
      "execution_count": null,
      "outputs": [
        {
          "output_type": "stream",
          "name": "stdout",
          "text": [
            "         Date    Category       Sub-Category   Amount Payment Mode\n",
            "19 2023-01-23     Grocery      Bread and Milk      56         Cash\n",
            "20 2023-01-24        Food  Fruits and Veggies     530         Cash\n",
            "21 2023-01-26        Food                Chai      10          UPI\n",
            "22 2023-01-26     Grocery               Maggi     140          UPI\n",
            "23 2023-01-27        Food              Zomato     300          UPI\n",
            "24 2023-01-27        Food                Chai      10          UPI\n",
            "25 2023-01-28  Essentials           Bedsheets    1025         Cash\n",
            "26 2023-01-29       Bills             Mobile     1650          UPI\n",
            "27 2023-01-29     Grocery                Daal     150         Cash\n",
            "28 2023-01-30       Bills            Cylinder    1074          UPI\n"
          ]
        }
      ]
    },
    {
      "cell_type": "code",
      "source": [
        "print(df.info())"
      ],
      "metadata": {
        "colab": {
          "base_uri": "https://localhost:8080/"
        },
        "id": "lyDnB5JZlKZr",
        "outputId": "76dbd924-42c3-4380-a933-4210c528ceda"
      },
      "execution_count": null,
      "outputs": [
        {
          "output_type": "stream",
          "name": "stdout",
          "text": [
            "<class 'pandas.core.frame.DataFrame'>\n",
            "RangeIndex: 29 entries, 0 to 28\n",
            "Data columns (total 5 columns):\n",
            " #   Column         Non-Null Count  Dtype         \n",
            "---  ------         --------------  -----         \n",
            " 0   Date           29 non-null     datetime64[ns]\n",
            " 1   Category       29 non-null     object        \n",
            " 2   Sub-Category   29 non-null     object        \n",
            " 3   Amount         29 non-null     int64         \n",
            " 4   Payment Mode   25 non-null     object        \n",
            "dtypes: datetime64[ns](1), int64(1), object(3)\n",
            "memory usage: 1.3+ KB\n",
            "None\n"
          ]
        }
      ]
    },
    {
      "cell_type": "code",
      "source": [
        "print(df.describe())"
      ],
      "metadata": {
        "colab": {
          "base_uri": "https://localhost:8080/"
        },
        "id": "0zvL0V78lZkL",
        "outputId": "de9a25ae-78fe-408e-fcbc-39e056b90d49"
      },
      "execution_count": null,
      "outputs": [
        {
          "output_type": "stream",
          "name": "stdout",
          "text": [
            "                                Date        Amount\n",
            "count                             29     29.000000\n",
            "mean   2023-01-17 19:02:04.137931008   1039.620690\n",
            "min              2023-01-01 00:00:00     10.000000\n",
            "25%              2023-01-10 00:00:00     70.000000\n",
            "50%              2023-01-19 00:00:00    257.000000\n",
            "75%              2023-01-26 00:00:00    890.000000\n",
            "max              2023-01-30 00:00:00  16000.000000\n",
            "std                              NaN   2927.684353\n"
          ]
        }
      ]
    },
    {
      "cell_type": "code",
      "source": [
        "print(df.isnull().sum())"
      ],
      "metadata": {
        "colab": {
          "base_uri": "https://localhost:8080/"
        },
        "id": "8S-A1B_jlzPD",
        "outputId": "cdf8f513-db4c-4156-c63b-f3e0de770c51"
      },
      "execution_count": null,
      "outputs": [
        {
          "output_type": "stream",
          "name": "stdout",
          "text": [
            "Date             0\n",
            "Category         0\n",
            "Sub-Category     0\n",
            "Amount           0\n",
            "Payment Mode     4\n",
            "dtype: int64\n"
          ]
        }
      ]
    },
    {
      "cell_type": "markdown",
      "source": [
        "**handling Duplicate values and missinging values**"
      ],
      "metadata": {
        "id": "MMiBkMFzrHYL"
      }
    },
    {
      "cell_type": "code",
      "source": [
        "# handling Duplicate values\n",
        "data=pd.read_csv(\"company1.csv\")\n",
        "print(data)"
      ],
      "metadata": {
        "colab": {
          "base_uri": "https://localhost:8080/"
        },
        "id": "Mmh3Wixql90f",
        "outputId": "e281afbb-a3d0-41b5-affc-a034c2854eb6"
      },
      "execution_count": null,
      "outputs": [
        {
          "output_type": "stream",
          "name": "stdout",
          "text": [
            "    EEID      Name gender   salary\n",
            "0  EMP01    ayushi      F      NaN\n",
            "1  EMP02     rohit      M  25000.0\n",
            "2  EMP03  pranjali    NaN  27000.0\n",
            "3  EMP01    ayushi      F  20000.0\n",
            "4  EMP05       NaN      M  25000.0\n",
            "5  EMP06     rohit      M      NaN\n",
            "6  EMP02     rohit      M  25000.0\n"
          ]
        }
      ]
    },
    {
      "cell_type": "code",
      "source": [
        "print(data.info())"
      ],
      "metadata": {
        "colab": {
          "base_uri": "https://localhost:8080/"
        },
        "id": "tD5ywcaDm2J3",
        "outputId": "cb761b5e-0bec-42e4-a5f9-e60d28fe03f9"
      },
      "execution_count": null,
      "outputs": [
        {
          "output_type": "stream",
          "name": "stdout",
          "text": [
            "<class 'pandas.core.frame.DataFrame'>\n",
            "RangeIndex: 7 entries, 0 to 6\n",
            "Data columns (total 4 columns):\n",
            " #   Column  Non-Null Count  Dtype  \n",
            "---  ------  --------------  -----  \n",
            " 0   EEID    7 non-null      object \n",
            " 1   Name    6 non-null      object \n",
            " 2   gender  6 non-null      object \n",
            " 3   salary  5 non-null      float64\n",
            "dtypes: float64(1), object(3)\n",
            "memory usage: 356.0+ bytes\n",
            "None\n"
          ]
        }
      ]
    },
    {
      "cell_type": "code",
      "source": [
        "print(data.describe())"
      ],
      "metadata": {
        "colab": {
          "base_uri": "https://localhost:8080/"
        },
        "id": "aeMv3DHim55y",
        "outputId": "ccddfdba-04ec-41c6-cefe-9e47650aef8b"
      },
      "execution_count": null,
      "outputs": [
        {
          "output_type": "stream",
          "name": "stdout",
          "text": [
            "             salary\n",
            "count      5.000000\n",
            "mean   24400.000000\n",
            "std     2607.680962\n",
            "min    20000.000000\n",
            "25%    25000.000000\n",
            "50%    25000.000000\n",
            "75%    25000.000000\n",
            "max    27000.000000\n"
          ]
        }
      ]
    },
    {
      "cell_type": "code",
      "source": [
        "print(data.isnull().sum())"
      ],
      "metadata": {
        "colab": {
          "base_uri": "https://localhost:8080/"
        },
        "id": "p4rigV1XnAqW",
        "outputId": "466978c9-569c-4eed-d9dc-2cab375e418b"
      },
      "execution_count": null,
      "outputs": [
        {
          "output_type": "stream",
          "name": "stdout",
          "text": [
            "EEID      0\n",
            "Name      1\n",
            "gender    1\n",
            "salary    2\n",
            "dtype: int64\n"
          ]
        }
      ]
    },
    {
      "cell_type": "code",
      "source": [
        "print(data[\"EEID\"].duplicated().sum())"
      ],
      "metadata": {
        "colab": {
          "base_uri": "https://localhost:8080/"
        },
        "id": "zhStWxYznZiL",
        "outputId": "8fc55f79-023e-4b51-84b3-f0b03a4804c9"
      },
      "execution_count": null,
      "outputs": [
        {
          "output_type": "stream",
          "name": "stdout",
          "text": [
            "2\n"
          ]
        }
      ]
    },
    {
      "cell_type": "code",
      "source": [
        "print(data.drop_duplicates(\"EEID\"))"
      ],
      "metadata": {
        "colab": {
          "base_uri": "https://localhost:8080/"
        },
        "id": "g6NUlBaVnoiR",
        "outputId": "22f8e82f-f018-4bca-ddea-5f4ed6aef807"
      },
      "execution_count": null,
      "outputs": [
        {
          "output_type": "stream",
          "name": "stdout",
          "text": [
            "    EEID      Name gender   salary\n",
            "0  EMP01    ayushi      F      NaN\n",
            "1  EMP02     rohit      M  25000.0\n",
            "2  EMP03  pranjali    NaN  27000.0\n",
            "4  EMP05       NaN      M  25000.0\n",
            "5  EMP06     rohit      M      NaN\n"
          ]
        }
      ]
    },
    {
      "cell_type": "code",
      "source": [
        "# missinging values in it\n",
        "print(data.isnull().sum())"
      ],
      "metadata": {
        "colab": {
          "base_uri": "https://localhost:8080/"
        },
        "id": "gfa_DIjUoG0J",
        "outputId": "69f89aa4-167b-4cf1-fd47-7e7ceeba0ebb"
      },
      "execution_count": null,
      "outputs": [
        {
          "output_type": "stream",
          "name": "stdout",
          "text": [
            "EEID      0\n",
            "Name      1\n",
            "gender    1\n",
            "salary    2\n",
            "dtype: int64\n"
          ]
        }
      ]
    },
    {
      "cell_type": "code",
      "source": [
        "print(data.dropna()) # can't drop"
      ],
      "metadata": {
        "colab": {
          "base_uri": "https://localhost:8080/"
        },
        "id": "8pmZ2koMoqWx",
        "outputId": "a64610dd-b0c9-476b-8fbe-7c3a9eeedb7b"
      },
      "execution_count": null,
      "outputs": [
        {
          "output_type": "stream",
          "name": "stdout",
          "text": [
            "    EEID    Name gender   salary\n",
            "1  EMP02   rohit      M  25000.0\n",
            "3  EMP01  ayushi      F  20000.0\n"
          ]
        }
      ]
    },
    {
      "cell_type": "code",
      "source": [
        "print(data)"
      ],
      "metadata": {
        "colab": {
          "base_uri": "https://localhost:8080/"
        },
        "id": "fxo8htFXpBPc",
        "outputId": "8257c43e-8879-49a2-e9d5-340657b78157"
      },
      "execution_count": null,
      "outputs": [
        {
          "output_type": "stream",
          "name": "stdout",
          "text": [
            "    EEID      Name gender   salary\n",
            "0  EMP01    ayushi      F      NaN\n",
            "1  EMP02     rohit      M  25000.0\n",
            "2  EMP03  pranjali    NaN  27000.0\n",
            "3  EMP01    ayushi      F  20000.0\n",
            "4  EMP05       NaN      M  25000.0\n",
            "5  EMP06     rohit      M      NaN\n"
          ]
        }
      ]
    },
    {
      "cell_type": "code",
      "source": [
        "import numpy as np\n",
        "print(data.replace(np.nan,30000))"
      ],
      "metadata": {
        "colab": {
          "base_uri": "https://localhost:8080/"
        },
        "id": "gc_1XPHVpDQ_",
        "outputId": "eddaf8c4-b9f5-47b1-ad53-f989748d67c6"
      },
      "execution_count": null,
      "outputs": [
        {
          "output_type": "stream",
          "name": "stdout",
          "text": [
            "    EEID      Name gender   salary\n",
            "0  EMP01    ayushi      F  30000.0\n",
            "1  EMP02     rohit      M  25000.0\n",
            "2  EMP03  pranjali  30000  27000.0\n",
            "3  EMP01    ayushi      F  20000.0\n",
            "4  EMP05     30000      M  25000.0\n",
            "5  EMP06     rohit      M  30000.0\n"
          ]
        }
      ]
    },
    {
      "cell_type": "code",
      "source": [
        "\n",
        "data[\"salary\"]=data[\"salary\"].replace(np.nan,30000)\n",
        "print(data)"
      ],
      "metadata": {
        "colab": {
          "base_uri": "https://localhost:8080/"
        },
        "id": "xkmKb8_NpaQE",
        "outputId": "004ef55b-bb8f-4e0e-9df6-48c7635f7e99"
      },
      "execution_count": null,
      "outputs": [
        {
          "output_type": "stream",
          "name": "stdout",
          "text": [
            "    EEID      Name gender   salary\n",
            "0  EMP01    ayushi      F  30000.0\n",
            "1  EMP02     rohit      M  25000.0\n",
            "2  EMP03  pranjali    NaN  27000.0\n",
            "3  EMP01    ayushi      F  20000.0\n",
            "4  EMP05       NaN      M  25000.0\n",
            "5  EMP06     rohit      M  30000.0\n"
          ]
        }
      ]
    },
    {
      "cell_type": "code",
      "source": [
        "print(data)"
      ],
      "metadata": {
        "colab": {
          "base_uri": "https://localhost:8080/"
        },
        "id": "y2LW5Dzvp6EN",
        "outputId": "96bed087-4725-4918-fc3d-221b4aed8516"
      },
      "execution_count": null,
      "outputs": [
        {
          "output_type": "stream",
          "name": "stdout",
          "text": [
            "    EEID      Name gender   salary\n",
            "0  EMP01    ayushi      F      NaN\n",
            "1  EMP02     rohit      M  25000.0\n",
            "2  EMP03  pranjali    NaN  27000.0\n",
            "3  EMP01    ayushi      F  20000.0\n",
            "4  EMP05       NaN      M  25000.0\n",
            "5  EMP06     rohit      M      NaN\n",
            "6  EMP02     rohit      M  25000.0\n"
          ]
        }
      ]
    },
    {
      "cell_type": "code",
      "source": [
        "\n",
        "data[\"salary\"]=data[\"salary\"].replace(np.nan,data[\"salary\"].mean())\n",
        "print(data)\n",
        "print(data[\"salary\"].mean())"
      ],
      "metadata": {
        "colab": {
          "base_uri": "https://localhost:8080/"
        },
        "id": "8RtT0y7vqFfg",
        "outputId": "19616c52-f071-43a9-bf9d-72d494dbb53a"
      },
      "execution_count": null,
      "outputs": [
        {
          "output_type": "stream",
          "name": "stdout",
          "text": [
            "    EEID      Name gender   salary\n",
            "0  EMP01    ayushi      F  24400.0\n",
            "1  EMP02     rohit      M  25000.0\n",
            "2  EMP03  pranjali    NaN  27000.0\n",
            "3  EMP01    ayushi      F  20000.0\n",
            "4  EMP05       NaN      M  25000.0\n",
            "5  EMP06     rohit      M  24400.0\n",
            "6  EMP02     rohit      M  25000.0\n",
            "24400.0\n"
          ]
        }
      ]
    },
    {
      "cell_type": "code",
      "source": [
        "print(data)"
      ],
      "metadata": {
        "colab": {
          "base_uri": "https://localhost:8080/"
        },
        "id": "U1rLWYaDqk6C",
        "outputId": "b4616752-fe6d-424f-e410-74bf6cc82f00"
      },
      "execution_count": null,
      "outputs": [
        {
          "output_type": "stream",
          "name": "stdout",
          "text": [
            "    EEID      Name gender   salary\n",
            "0  EMP01    ayushi      F      NaN\n",
            "1  EMP02     rohit      M  25000.0\n",
            "2  EMP03  pranjali    NaN  27000.0\n",
            "3  EMP01    ayushi      F  20000.0\n",
            "4  EMP05       NaN      M  25000.0\n",
            "5  EMP06     rohit      M      NaN\n",
            "6  EMP02     rohit      M  25000.0\n"
          ]
        }
      ]
    },
    {
      "cell_type": "markdown",
      "source": [
        "backward and forward fill"
      ],
      "metadata": {
        "id": "F3ZONgjorQ3f"
      }
    },
    {
      "cell_type": "code",
      "source": [
        "print(data.fillna(method=\"bfill\")) # back word fill"
      ],
      "metadata": {
        "colab": {
          "base_uri": "https://localhost:8080/"
        },
        "id": "nDoYYBGoqhWU",
        "outputId": "7a15e056-1e85-46e2-fb63-6dcba2c14695"
      },
      "execution_count": null,
      "outputs": [
        {
          "output_type": "stream",
          "name": "stdout",
          "text": [
            "    EEID      Name gender   salary\n",
            "0  EMP01    ayushi      F  25000.0\n",
            "1  EMP02     rohit      M  25000.0\n",
            "2  EMP03  pranjali      F  27000.0\n",
            "3  EMP01    ayushi      F  20000.0\n",
            "4  EMP05     rohit      M  25000.0\n",
            "5  EMP06     rohit      M  25000.0\n",
            "6  EMP02     rohit      M  25000.0\n"
          ]
        },
        {
          "output_type": "stream",
          "name": "stderr",
          "text": [
            "<ipython-input-42-be704d4cdb5a>:1: FutureWarning: DataFrame.fillna with 'method' is deprecated and will raise in a future version. Use obj.ffill() or obj.bfill() instead.\n",
            "  print(data.fillna(method=\"bfill\"))\n"
          ]
        }
      ]
    },
    {
      "cell_type": "code",
      "source": [
        "print(data.fillna(method=\"ffill\")) # forword fill"
      ],
      "metadata": {
        "colab": {
          "base_uri": "https://localhost:8080/"
        },
        "id": "fcxXhfGBq5wC",
        "outputId": "a7f49bc7-e7d7-41a0-d22f-e0819ace99d5"
      },
      "execution_count": null,
      "outputs": [
        {
          "output_type": "stream",
          "name": "stdout",
          "text": [
            "    EEID      Name gender   salary\n",
            "0  EMP01    ayushi      F      NaN\n",
            "1  EMP02     rohit      M  25000.0\n",
            "2  EMP03  pranjali      M  27000.0\n",
            "3  EMP01    ayushi      F  20000.0\n",
            "4  EMP05    ayushi      M  25000.0\n",
            "5  EMP06     rohit      M  25000.0\n",
            "6  EMP02     rohit      M  25000.0\n"
          ]
        },
        {
          "output_type": "stream",
          "name": "stderr",
          "text": [
            "<ipython-input-43-a9fa63681fb4>:1: FutureWarning: DataFrame.fillna with 'method' is deprecated and will raise in a future version. Use obj.ffill() or obj.bfill() instead.\n",
            "  print(data.fillna(method=\"ffill\"))\n"
          ]
        }
      ]
    },
    {
      "cell_type": "markdown",
      "source": [
        "**columns Transformation**"
      ],
      "metadata": {
        "id": "JDFZC3fW2uJb"
      }
    },
    {
      "cell_type": "code",
      "source": [
        "import pandas as pd\n",
        "df=pd.read_excel(\"ESD.xlsx\")\n",
        "print(df)"
      ],
      "metadata": {
        "colab": {
          "base_uri": "https://localhost:8080/"
        },
        "id": "oBNEhowfre2O",
        "outputId": "ba71bc2b-dd95-485b-84a8-7de45bdc8fe3"
      },
      "execution_count": null,
      "outputs": [
        {
          "output_type": "stream",
          "name": "stdout",
          "text": [
            "       EEID        Full Name                 Job Title  Department  \\\n",
            "0    E02387      Emily Davis                Sr. Manger          IT   \n",
            "1    E04105    Theodore Dinh       Technical Architect          IT   \n",
            "2    E02572     Luna Sanders                  Director     Finance   \n",
            "3    E02832  Penelope Jordan  Computer Systems Manager          IT   \n",
            "4    E01639        Austin Vo               Sr. Analyst     Finance   \n",
            "..      ...              ...                       ...         ...   \n",
            "995  E03094     Wesley Young               Sr. Analyst   Marketing   \n",
            "996  E01909     Lillian Khan                   Analyst     Finance   \n",
            "997  E04398      Oliver Yang                  Director   Marketing   \n",
            "998  E02521      Lily Nguyen               Sr. Analyst     Finance   \n",
            "999  E03545      Sofia Cheng            Vice President  Accounting   \n",
            "\n",
            "              Business Unit  Gender  Ethnicity  Age  Hire Date  Annual Salary  \\\n",
            "0    Research & Development  Female      Black   55 2016-04-08         141604   \n",
            "1             Manufacturing    Male      Asian   59 1997-11-29          99975   \n",
            "2       Speciality Products  Female  Caucasian   50 2006-10-26         163099   \n",
            "3             Manufacturing  Female  Caucasian   26 2019-09-27          84913   \n",
            "4             Manufacturing    Male      Asian   55 1995-11-20          95409   \n",
            "..                      ...     ...        ...  ...        ...            ...   \n",
            "995     Speciality Products    Male  Caucasian   33 2016-09-18          98427   \n",
            "996     Speciality Products  Female      Asian   44 2010-05-31          47387   \n",
            "997     Speciality Products    Male      Asian   31 2019-06-10         176710   \n",
            "998     Speciality Products  Female      Asian   33 2012-01-28          95960   \n",
            "999               Corporate  Female      Asian   63 2020-07-26         216195   \n",
            "\n",
            "     Bonus %        Country       City  Exit Date  \n",
            "0       0.15  United States    Seattle 2021-10-16  \n",
            "1       0.00          China  Chongqing        NaT  \n",
            "2       0.20  United States    Chicago        NaT  \n",
            "3       0.07  United States    Chicago        NaT  \n",
            "4       0.00  United States    Phoenix        NaT  \n",
            "..       ...            ...        ...        ...  \n",
            "995     0.00  United States   Columbus        NaT  \n",
            "996     0.00          China    Chengdu 2018-01-08  \n",
            "997     0.15  United States      Miami        NaT  \n",
            "998     0.00          China    Chengdu        NaT  \n",
            "999     0.31  United States      Miami        NaT  \n",
            "\n",
            "[1000 rows x 14 columns]\n"
          ]
        }
      ]
    },
    {
      "cell_type": "code",
      "source": [
        "df.loc[(df[\"Bonus %\"]==0),\"GetBonus\"]=\"no bouns\"\n",
        "df.loc[(df['Bonus %']>0),\"GetBonus\"]=\"bonus\"\n",
        "print(df)"
      ],
      "metadata": {
        "colab": {
          "base_uri": "https://localhost:8080/"
        },
        "id": "yTuGzNG63s6v",
        "outputId": "2149362c-4b16-4c2c-9d14-66aee50a94ca"
      },
      "execution_count": null,
      "outputs": [
        {
          "output_type": "stream",
          "name": "stdout",
          "text": [
            "       EEID        Full Name                 Job Title  Department  \\\n",
            "0    E02387      Emily Davis                Sr. Manger          IT   \n",
            "1    E04105    Theodore Dinh       Technical Architect          IT   \n",
            "2    E02572     Luna Sanders                  Director     Finance   \n",
            "3    E02832  Penelope Jordan  Computer Systems Manager          IT   \n",
            "4    E01639        Austin Vo               Sr. Analyst     Finance   \n",
            "..      ...              ...                       ...         ...   \n",
            "995  E03094     Wesley Young               Sr. Analyst   Marketing   \n",
            "996  E01909     Lillian Khan                   Analyst     Finance   \n",
            "997  E04398      Oliver Yang                  Director   Marketing   \n",
            "998  E02521      Lily Nguyen               Sr. Analyst     Finance   \n",
            "999  E03545      Sofia Cheng            Vice President  Accounting   \n",
            "\n",
            "              Business Unit  Gender  Ethnicity  Age  Hire Date  Annual Salary  \\\n",
            "0    Research & Development  Female      Black   55 2016-04-08         141604   \n",
            "1             Manufacturing    Male      Asian   59 1997-11-29          99975   \n",
            "2       Speciality Products  Female  Caucasian   50 2006-10-26         163099   \n",
            "3             Manufacturing  Female  Caucasian   26 2019-09-27          84913   \n",
            "4             Manufacturing    Male      Asian   55 1995-11-20          95409   \n",
            "..                      ...     ...        ...  ...        ...            ...   \n",
            "995     Speciality Products    Male  Caucasian   33 2016-09-18          98427   \n",
            "996     Speciality Products  Female      Asian   44 2010-05-31          47387   \n",
            "997     Speciality Products    Male      Asian   31 2019-06-10         176710   \n",
            "998     Speciality Products  Female      Asian   33 2012-01-28          95960   \n",
            "999               Corporate  Female      Asian   63 2020-07-26         216195   \n",
            "\n",
            "     Bonus %        Country       City  Exit Date  GetBonus  \n",
            "0       0.15  United States    Seattle 2021-10-16     bonus  \n",
            "1       0.00          China  Chongqing        NaT  no bouns  \n",
            "2       0.20  United States    Chicago        NaT     bonus  \n",
            "3       0.07  United States    Chicago        NaT     bonus  \n",
            "4       0.00  United States    Phoenix        NaT  no bouns  \n",
            "..       ...            ...        ...        ...       ...  \n",
            "995     0.00  United States   Columbus        NaT  no bouns  \n",
            "996     0.00          China    Chengdu 2018-01-08  no bouns  \n",
            "997     0.15  United States      Miami        NaT     bonus  \n",
            "998     0.00          China    Chengdu        NaT  no bouns  \n",
            "999     0.31  United States      Miami        NaT     bonus  \n",
            "\n",
            "[1000 rows x 15 columns]\n"
          ]
        }
      ]
    },
    {
      "cell_type": "code",
      "source": [
        "import pandas as pd\n",
        "df=pd.read_csv(\"company1.csv\")\n",
        "print(df)\n"
      ],
      "metadata": {
        "colab": {
          "base_uri": "https://localhost:8080/"
        },
        "id": "hRMIr_i25voK",
        "outputId": "051de720-dfdd-4f1b-d7b4-970d31cdc13a"
      },
      "execution_count": null,
      "outputs": [
        {
          "output_type": "stream",
          "name": "stdout",
          "text": [
            "    EEID      Name gender   salary\n",
            "0  EMP01    ayushi      F      NaN\n",
            "1  EMP02     rohit      M  25000.0\n",
            "2  EMP03  pranjali    NaN  27000.0\n",
            "3  EMP01    ayushi      F  20000.0\n",
            "4  EMP05       NaN      M  25000.0\n",
            "5  EMP06     rohit      M      NaN\n",
            "6  EMP02     rohit      M  25000.0\n"
          ]
        }
      ]
    },
    {
      "cell_type": "code",
      "source": [
        "df[\"salary\"]=df[\"salary\"].replace(np.nan,df[\"salary\"].mean())\n",
        "print(df)"
      ],
      "metadata": {
        "colab": {
          "base_uri": "https://localhost:8080/"
        },
        "id": "gUdCBfw-8tWh",
        "outputId": "68a537f2-f497-467e-fdc5-81a2790a7657"
      },
      "execution_count": null,
      "outputs": [
        {
          "output_type": "stream",
          "name": "stdout",
          "text": [
            "    EEID      Name gender   salary\n",
            "0  EMP01    ayushi      F  24400.0\n",
            "1  EMP02     rohit      M  25000.0\n",
            "2  EMP03  pranjali    NaN  27000.0\n",
            "3  EMP01    ayushi      F  20000.0\n",
            "4  EMP05       NaN      M  25000.0\n",
            "5  EMP06     rohit      M  24400.0\n",
            "6  EMP02     rohit      M  25000.0\n"
          ]
        }
      ]
    },
    {
      "cell_type": "code",
      "source": [
        "df[\"Name\"]=df[\"Name\"].fillna  (method=\"ffill\")\n",
        "df[\"gender\"]=df[\"gender\"].fillna(method=\"ffill\")\n",
        "print(df)"
      ],
      "metadata": {
        "colab": {
          "base_uri": "https://localhost:8080/"
        },
        "id": "3WSHPkKc8_lj",
        "outputId": "6e79e505-0c5a-45e6-c532-3a498895185d"
      },
      "execution_count": null,
      "outputs": [
        {
          "output_type": "stream",
          "name": "stdout",
          "text": [
            "    EEID      Name gender   salary\n",
            "0  EMP01    ayushi      F  24400.0\n",
            "1  EMP02     rohit      M  25000.0\n",
            "2  EMP03  pranjali      M  27000.0\n",
            "3  EMP01    ayushi      F  20000.0\n",
            "4  EMP05    ayushi      M  25000.0\n",
            "5  EMP06     rohit      M  24400.0\n",
            "6  EMP02     rohit      M  25000.0\n"
          ]
        },
        {
          "output_type": "stream",
          "name": "stderr",
          "text": [
            "<ipython-input-69-5fd87dfa1c3c>:1: FutureWarning: Series.fillna with 'method' is deprecated and will raise in a future version. Use obj.ffill() or obj.bfill() instead.\n",
            "  df[\"Name\"]=df[\"Name\"].fillna  (method=\"ffill\")\n",
            "<ipython-input-69-5fd87dfa1c3c>:2: FutureWarning: Series.fillna with 'method' is deprecated and will raise in a future version. Use obj.ffill() or obj.bfill() instead.\n",
            "  df[\"gender\"]=df[\"gender\"].fillna(method=\"ffill\")\n"
          ]
        }
      ]
    },
    {
      "cell_type": "code",
      "source": [
        "df[\"Bonus\"]=(df[\"salary\"]/100)*20\n",
        "print(df)"
      ],
      "metadata": {
        "colab": {
          "base_uri": "https://localhost:8080/"
        },
        "id": "NjTrsQPG9uDG",
        "outputId": "399adfa5-33fe-47eb-c312-33926f5e4736"
      },
      "execution_count": null,
      "outputs": [
        {
          "output_type": "stream",
          "name": "stdout",
          "text": [
            "    EEID      Name gender   salary   Bonus\n",
            "0  EMP01    ayushi      F  24400.0  4880.0\n",
            "1  EMP02     rohit      M  25000.0  5000.0\n",
            "2  EMP03  pranjali      M  27000.0  5400.0\n",
            "3  EMP01    ayushi      F  20000.0  4000.0\n",
            "4  EMP05    ayushi      M  25000.0  5000.0\n",
            "5  EMP06     rohit      M  24400.0  4880.0\n",
            "6  EMP02     rohit      M  25000.0  5000.0\n"
          ]
        }
      ]
    },
    {
      "cell_type": "code",
      "source": [
        "import pandas as pd\n",
        "data={\"Months\":[\"January\",\"February\",\"March\",\"April\"]}\n",
        "a=pd.DataFrame(data)\n",
        "print(a)"
      ],
      "metadata": {
        "id": "bSeGKW_b-zKN",
        "colab": {
          "base_uri": "https://localhost:8080/"
        },
        "outputId": "a486fc02-14a0-48cf-c6c5-a43cfabaa343"
      },
      "execution_count": null,
      "outputs": [
        {
          "output_type": "stream",
          "name": "stdout",
          "text": [
            "     Months\n",
            "0   January\n",
            "1  February\n",
            "2     March\n",
            "3     April\n"
          ]
        }
      ]
    },
    {
      "cell_type": "code",
      "source": [
        "def extract(value):\n",
        "  return value[:3]\n",
        "a[\"Short_months\"]=a[\"Months\"].map(extract)\n",
        "print(a)"
      ],
      "metadata": {
        "colab": {
          "base_uri": "https://localhost:8080/"
        },
        "id": "ToBV5U3N9v4j",
        "outputId": "6fc469a4-8b21-4b90-dce2-2b704d7a8622"
      },
      "execution_count": null,
      "outputs": [
        {
          "output_type": "stream",
          "name": "stdout",
          "text": [
            "     Months Short_months\n",
            "0   January          Jan\n",
            "1  February          Feb\n",
            "2     March          Mar\n",
            "3     April          Apr\n"
          ]
        }
      ]
    },
    {
      "cell_type": "markdown",
      "source": [
        "**group by in pandas**"
      ],
      "metadata": {
        "id": "0g_7qm9E-vjW"
      }
    },
    {
      "cell_type": "code",
      "source": [
        "import pandas as pd\n",
        "data=pd.read_excel(\"ESD.xlsx\")\n",
        "print(data.head())"
      ],
      "metadata": {
        "colab": {
          "base_uri": "https://localhost:8080/"
        },
        "id": "2i9MIROK-2AW",
        "outputId": "3a3183a7-acc6-43f5-e0dd-6503dc5523b4"
      },
      "execution_count": null,
      "outputs": [
        {
          "output_type": "stream",
          "name": "stdout",
          "text": [
            "     EEID        Full Name                 Job Title Department  \\\n",
            "0  E02387      Emily Davis                Sr. Manger         IT   \n",
            "1  E04105    Theodore Dinh       Technical Architect         IT   \n",
            "2  E02572     Luna Sanders                  Director    Finance   \n",
            "3  E02832  Penelope Jordan  Computer Systems Manager         IT   \n",
            "4  E01639        Austin Vo               Sr. Analyst    Finance   \n",
            "\n",
            "            Business Unit  Gender  Ethnicity  Age  Hire Date  Annual Salary  \\\n",
            "0  Research & Development  Female      Black   55 2016-04-08         141604   \n",
            "1           Manufacturing    Male      Asian   59 1997-11-29          99975   \n",
            "2     Speciality Products  Female  Caucasian   50 2006-10-26         163099   \n",
            "3           Manufacturing  Female  Caucasian   26 2019-09-27          84913   \n",
            "4           Manufacturing    Male      Asian   55 1995-11-20          95409   \n",
            "\n",
            "   Bonus %        Country       City  Exit Date  \n",
            "0     0.15  United States    Seattle 2021-10-16  \n",
            "1     0.00          China  Chongqing        NaT  \n",
            "2     0.20  United States    Chicago        NaT  \n",
            "3     0.07  United States    Chicago        NaT  \n",
            "4     0.00  United States    Phoenix        NaT  \n"
          ]
        }
      ]
    },
    {
      "cell_type": "code",
      "source": [
        "gp=data.groupby(\"Department\").agg({\"Gender\":\"count\"})\n",
        "print(gp)"
      ],
      "metadata": {
        "colab": {
          "base_uri": "https://localhost:8080/"
        },
        "id": "ZmUPmhKU_cci",
        "outputId": "5baced08-5688-49f8-a5ee-8c37be105633"
      },
      "execution_count": null,
      "outputs": [
        {
          "output_type": "stream",
          "name": "stdout",
          "text": [
            "                 Gender\n",
            "Department             \n",
            "Accounting           96\n",
            "Engineering         158\n",
            "Finance             120\n",
            "Human Resources     125\n",
            "IT                  241\n",
            "Marketing           120\n",
            "Sales               140\n"
          ]
        }
      ]
    },
    {
      "cell_type": "code",
      "source": [
        "gp=data.groupby([\"Department\",\"Gender\"]).agg({\"EEID\":\"count\"})\n",
        "print(gp)"
      ],
      "metadata": {
        "colab": {
          "base_uri": "https://localhost:8080/"
        },
        "id": "aMbU7Fix_2KU",
        "outputId": "b3b17491-9128-4f63-b39c-d4dabe7a7662"
      },
      "execution_count": null,
      "outputs": [
        {
          "output_type": "stream",
          "name": "stdout",
          "text": [
            "                        EEID\n",
            "Department      Gender      \n",
            "Accounting      Female    53\n",
            "                Male      43\n",
            "Engineering     Female    80\n",
            "                Male      78\n",
            "Finance         Female    69\n",
            "                Male      51\n",
            "Human Resources Female    64\n",
            "                Male      61\n",
            "IT              Female   119\n",
            "                Male     122\n",
            "Marketing       Female    57\n",
            "                Male      63\n",
            "Sales           Female    76\n",
            "                Male      64\n"
          ]
        }
      ]
    },
    {
      "cell_type": "code",
      "source": [
        "gp1=data.groupby([\"Country\",\"Gender\"]).agg({\"Age\":\"mean\",\"Annual Salary\":\"max\"})\n",
        "print(gp1)"
      ],
      "metadata": {
        "colab": {
          "base_uri": "https://localhost:8080/"
        },
        "id": "Adtr0RpBAPL9",
        "outputId": "1052fbda-5d9a-4220-eb36-cd3e133b746d"
      },
      "execution_count": null,
      "outputs": [
        {
          "output_type": "stream",
          "name": "stdout",
          "text": [
            "                            Age  Annual Salary\n",
            "Country       Gender                          \n",
            "Brazil        Female  42.240000         258426\n",
            "              Male    45.312500         249506\n",
            "China         Female  44.752294         249686\n",
            "              Male    46.027523         257194\n",
            "United States Female  44.580838         258498\n",
            "              Male    43.783172         258081\n"
          ]
        }
      ]
    },
    {
      "cell_type": "markdown",
      "source": [
        "**Merge join concatenate in pandas**"
      ],
      "metadata": {
        "id": "ORdrQ8OuBcFv"
      }
    },
    {
      "cell_type": "code",
      "source": [
        "import pandas as pd\n",
        "data1={\"Emp ID\":[\"E01\",\"E02\",\"E03\",\"E04\",\"E05\",\"E06\"],\n",
        "       \"Employee\":[\"jon\",\"ken\",\"ravi\",\"herry\",\"jerry\",\"killva\"],\n",
        "       \"Age\":[22,23,24,26,28,21]}\n",
        "data2={\"Emp ID\":[\"E01\",\"E02\",\"E03\",\"E04\",\"E05\",\"E06\"],\n",
        "       \"Salary\":[20000,30000,32000,21000,33000,19000]}\n",
        "data=pd.DataFrame(data1)\n",
        "\n",
        "data1=pd.DataFrame(data2)\n",
        "print(data)\n",
        "print()\n",
        "print(data1)"
      ],
      "metadata": {
        "id": "33Jp9GrGBbki",
        "colab": {
          "base_uri": "https://localhost:8080/"
        },
        "outputId": "994ba588-05e2-402d-b4f0-12fb8dd649a9"
      },
      "execution_count": null,
      "outputs": [
        {
          "output_type": "stream",
          "name": "stdout",
          "text": [
            "  Emp ID Employee  Age\n",
            "0    E01      jon   22\n",
            "1    E02      ken   23\n",
            "2    E03     ravi   24\n",
            "3    E04    herry   26\n",
            "4    E05    jerry   28\n",
            "5    E06   killva   21\n",
            "\n",
            "  Emp ID  Salary\n",
            "0    E01   20000\n",
            "1    E02   30000\n",
            "2    E03   32000\n",
            "3    E04   21000\n",
            "4    E05   33000\n",
            "5    E06   19000\n"
          ]
        }
      ]
    },
    {
      "cell_type": "code",
      "source": [
        "print(pd.merge(data,data1,on=\"Emp ID\"))"
      ],
      "metadata": {
        "colab": {
          "base_uri": "https://localhost:8080/"
        },
        "id": "TvIKXk2ZEFNM",
        "outputId": "176a5ee0-7d70-42d3-da5d-0bc77fd7ac68"
      },
      "execution_count": null,
      "outputs": [
        {
          "output_type": "stream",
          "name": "stdout",
          "text": [
            "  Emp ID Employee  Age  Salary\n",
            "0    E01      jon   22   20000\n",
            "1    E02      ken   23   30000\n",
            "2    E03     ravi   24   32000\n",
            "3    E04    herry   26   21000\n",
            "4    E05    jerry   28   33000\n",
            "5    E06   killva   21   19000\n"
          ]
        }
      ]
    },
    {
      "cell_type": "code",
      "source": [
        "import pandas as pd\n",
        "data1={\"Emp ID\":[\"E01\",\"E02\",\"E03\",\"E04\",\"E09\",\"E06\"],\n",
        "       \"Employee\":[\"jon\",\"ken\",\"ravi\",\"herry\",\"jerry\",\"killva\"],\n",
        "       \"Age\":[22,23,24,26,28,21]}\n",
        "data2={\"Emp ID\":[\"E01\",\"E07\",\"E03\",\"E04\",\"E05\",\"E06\"],\n",
        "       \"Salary\":[20000,30000,32000,21000,33000,19000]}\n",
        "data=pd.DataFrame(data1)\n",
        "\n",
        "data1=pd.DataFrame(data2)\n",
        "print(data)\n",
        "print()\n",
        "print(data1)"
      ],
      "metadata": {
        "colab": {
          "base_uri": "https://localhost:8080/"
        },
        "id": "z7_Woa04EiuZ",
        "outputId": "b01f39a1-f25d-4b69-82a4-c5407b840f95"
      },
      "execution_count": null,
      "outputs": [
        {
          "output_type": "stream",
          "name": "stdout",
          "text": [
            "  Emp ID Employee  Age\n",
            "0    E01      jon   22\n",
            "1    E02      ken   23\n",
            "2    E03     ravi   24\n",
            "3    E04    herry   26\n",
            "4    E09    jerry   28\n",
            "5    E06   killva   21\n",
            "\n",
            "  Emp ID  Salary\n",
            "0    E01   20000\n",
            "1    E07   30000\n",
            "2    E03   32000\n",
            "3    E04   21000\n",
            "4    E05   33000\n",
            "5    E06   19000\n"
          ]
        }
      ]
    },
    {
      "cell_type": "code",
      "source": [
        "print(pd.merge(data,data1,on=\"Emp ID\"))"
      ],
      "metadata": {
        "colab": {
          "base_uri": "https://localhost:8080/"
        },
        "id": "awmK_5EGEn-M",
        "outputId": "afe88253-c907-428f-9a8e-3d48fe34a85e"
      },
      "execution_count": null,
      "outputs": [
        {
          "output_type": "stream",
          "name": "stdout",
          "text": [
            "  Emp ID Employee  Age  Salary\n",
            "0    E01      jon   22   20000\n",
            "1    E03     ravi   24   32000\n",
            "2    E04    herry   26   21000\n",
            "3    E06   killva   21   19000\n"
          ]
        }
      ]
    },
    {
      "cell_type": "code",
      "source": [
        "print(pd.merge(left=data,right=data1,on=\"Emp ID\",how=\"left\"))"
      ],
      "metadata": {
        "colab": {
          "base_uri": "https://localhost:8080/"
        },
        "id": "ubjcf2f4E1-8",
        "outputId": "b38574c5-bcdd-4226-d831-29f077b00ccf"
      },
      "execution_count": null,
      "outputs": [
        {
          "output_type": "stream",
          "name": "stdout",
          "text": [
            "  Emp ID Employee  Age   Salary\n",
            "0    E01      jon   22  20000.0\n",
            "1    E02      ken   23      NaN\n",
            "2    E03     ravi   24  32000.0\n",
            "3    E04    herry   26  21000.0\n",
            "4    E09    jerry   28      NaN\n",
            "5    E06   killva   21  19000.0\n"
          ]
        }
      ]
    },
    {
      "cell_type": "code",
      "source": [
        "print(pd.merge(left=data,right=data1,on=\"Emp ID\",how=\"right\"))"
      ],
      "metadata": {
        "colab": {
          "base_uri": "https://localhost:8080/"
        },
        "id": "b6MTWoPyFGiJ",
        "outputId": "99197a40-8d45-442b-9949-24019955862a"
      },
      "execution_count": null,
      "outputs": [
        {
          "output_type": "stream",
          "name": "stdout",
          "text": [
            "  Emp ID Employee   Age  Salary\n",
            "0    E01      jon  22.0   20000\n",
            "1    E07      NaN   NaN   30000\n",
            "2    E03     ravi  24.0   32000\n",
            "3    E04    herry  26.0   21000\n",
            "4    E05      NaN   NaN   33000\n",
            "5    E06   killva  21.0   19000\n"
          ]
        }
      ]
    },
    {
      "cell_type": "code",
      "source": [
        "data1={\"Emp ID\":[\"E01\",\"E02\",\"E03\",\"E04\",\"E09\",\"E06\"],\n",
        "       \"Employee\":[\"jon\",\"ken\",\"ravi\",\"herry\",\"jerry\",\"killva\"],\n",
        "       \"Age\":[22,23,24,26,28,21]}\n",
        "data2={\"Emp ID\":[\"E07\",\"E08\",\"E09\",\"E10\",\"E11\",\"E12\"],\n",
        "       \"Employee\":[\"jan\",\"keen\",\"radi\",\"hero\",\"jemel\",\"jin wo sung\"],\n",
        "       \"Age\":[22,23,24,26,28,21]}\n",
        "data1=pd.DataFrame(data1)\n",
        "data2=pd.DataFrame(data2)\n",
        "print(data1)\n",
        "print()\n",
        "print(data2)"
      ],
      "metadata": {
        "colab": {
          "base_uri": "https://localhost:8080/"
        },
        "id": "bwgij95BFVYj",
        "outputId": "f8bd1bc6-bec1-477f-cc43-0b07e4ebdfec"
      },
      "execution_count": null,
      "outputs": [
        {
          "output_type": "stream",
          "name": "stdout",
          "text": [
            "  Emp ID Employee  Age\n",
            "0    E01      jon   22\n",
            "1    E02      ken   23\n",
            "2    E03     ravi   24\n",
            "3    E04    herry   26\n",
            "4    E09    jerry   28\n",
            "5    E06   killva   21\n",
            "\n",
            "  Emp ID     Employee  Age\n",
            "0    E07          jan   22\n",
            "1    E08         keen   23\n",
            "2    E09         radi   24\n",
            "3    E10         hero   26\n",
            "4    E11        jemel   28\n",
            "5    E12  jin wo sung   21\n"
          ]
        }
      ]
    },
    {
      "cell_type": "code",
      "source": [
        "print(pd.concat([data1,data2]))"
      ],
      "metadata": {
        "colab": {
          "base_uri": "https://localhost:8080/"
        },
        "id": "CtSpL8_OGTeO",
        "outputId": "e1151df7-08fb-45cb-e969-6b782e933d88"
      },
      "execution_count": null,
      "outputs": [
        {
          "output_type": "stream",
          "name": "stdout",
          "text": [
            "  Emp ID     Employee  Age\n",
            "0    E01          jon   22\n",
            "1    E02          ken   23\n",
            "2    E03         ravi   24\n",
            "3    E04        herry   26\n",
            "4    E09        jerry   28\n",
            "5    E06       killva   21\n",
            "0    E07          jan   22\n",
            "1    E08         keen   23\n",
            "2    E09         radi   24\n",
            "3    E10         hero   26\n",
            "4    E11        jemel   28\n",
            "5    E12  jin wo sung   21\n"
          ]
        }
      ]
    },
    {
      "cell_type": "markdown",
      "source": [
        "**compare dataframe**"
      ],
      "metadata": {
        "id": "CL-AKbYK8c7p"
      }
    },
    {
      "cell_type": "code",
      "source": [
        "import pandas as pd\n",
        "dict={\"Fruits\":[\"mango\",\"banana\",\"papaya\",\"apple\"],\n",
        "      \"Price\":[100,80,150,210],\n",
        "      \"Quatity\":[15,10,10,3]}\n",
        "df1=pd.DataFrame(dict)\n",
        "print(df1)\n",
        "\n",
        "df2=df1.copy()\n",
        "df2.loc[0,\"Price\"]=120\n",
        "df2.loc[1,\"Quatity\"]=12\n",
        "df2.loc[2,\"Fruits\"]=\"kiwi\"\n",
        "df2.loc[2,\"Price\"]=120\n",
        "df2.loc[3,\"Quatity\"]=12\n",
        "\n",
        "print(df2)"
      ],
      "metadata": {
        "colab": {
          "base_uri": "https://localhost:8080/"
        },
        "id": "X5XZIU_O8iPc",
        "outputId": "2b4a4732-3fc2-4b5a-8145-4d7535ebe18e"
      },
      "execution_count": null,
      "outputs": [
        {
          "output_type": "stream",
          "name": "stdout",
          "text": [
            "   Fruits  Price  Quatity\n",
            "0   mango    100       15\n",
            "1  banana     80       10\n",
            "2  papaya    150       10\n",
            "3   apple    210        3\n",
            "   Fruits  Price  Quatity\n",
            "0   mango    120       15\n",
            "1  banana     80       12\n",
            "2    kiwi    120       10\n",
            "3   apple    210       12\n"
          ]
        }
      ]
    },
    {
      "cell_type": "code",
      "source": [
        "\n",
        "print(df.compare(df2))\n",
        "print()\n",
        "print(df1.compare(df2,keep_equal=True))\n",
        "print()\n",
        "print(df1.compare(df2,keep_shape=True))\n",
        "print()\n",
        "print(df1.compare(df2,keep_shape=True,keep_equal=True))"
      ],
      "metadata": {
        "colab": {
          "base_uri": "https://localhost:8080/"
        },
        "id": "Qa6UjSt99n46",
        "outputId": "f0f7cd87-2e31-47d1-85c4-f3610c093a85"
      },
      "execution_count": null,
      "outputs": [
        {
          "output_type": "stream",
          "name": "stdout",
          "text": [
            "   Fruits        Price        Quatity      \n",
            "     self other   self  other    self other\n",
            "0     NaN   NaN  100.0  120.0     NaN   NaN\n",
            "1     NaN   NaN    NaN    NaN    10.0  12.0\n",
            "2  papaya  kiwi  150.0  120.0     NaN   NaN\n",
            "3     NaN   NaN    NaN    NaN     3.0  12.0\n",
            "\n",
            "   Fruits         Price       Quatity      \n",
            "     self   other  self other    self other\n",
            "0   mango   mango   100   120      15    15\n",
            "1  banana  banana    80    80      10    12\n",
            "2  papaya    kiwi   150   120      10    10\n",
            "3   apple   apple   210   210       3    12\n",
            "\n",
            "   Fruits        Price        Quatity      \n",
            "     self other   self  other    self other\n",
            "0     NaN   NaN  100.0  120.0     NaN   NaN\n",
            "1     NaN   NaN    NaN    NaN    10.0  12.0\n",
            "2  papaya  kiwi  150.0  120.0     NaN   NaN\n",
            "3     NaN   NaN    NaN    NaN     3.0  12.0\n",
            "\n",
            "   Fruits         Price       Quatity      \n",
            "     self   other  self other    self other\n",
            "0   mango   mango   100   120      15    15\n",
            "1  banana  banana    80    80      10    12\n",
            "2  papaya    kiwi   150   120      10    10\n",
            "3   apple   apple   210   210       3    12\n"
          ]
        }
      ]
    },
    {
      "cell_type": "markdown",
      "source": [
        "**pivoting and melting**"
      ],
      "metadata": {
        "id": "fRoKUG3d_Bpn"
      }
    },
    {
      "cell_type": "code",
      "source": [
        "# pivoting\n",
        "import pandas as pd\n",
        "dict={\"keys\":[\"k1\",\"k2\",\"k1\",\"k2\"],\n",
        "      \"Name\":[\"jon\",\"peter\",\"ben\",\"gojo\"],\n",
        "      \"Houses\":[\"red\",\"blue\",\"green\",\"red\"],\n",
        "      \"Grades\":[\"3rd\",'4th',\"5th\",\"3rd\"]}\n",
        "df=pd.DataFrame(dict)\n",
        "print(df)"
      ],
      "metadata": {
        "colab": {
          "base_uri": "https://localhost:8080/"
        },
        "id": "RP2uNk87_BHJ",
        "outputId": "7fce1edf-97a7-4016-ff27-c1f5b8c2019e"
      },
      "execution_count": null,
      "outputs": [
        {
          "output_type": "stream",
          "name": "stdout",
          "text": [
            "  keys   Name Houses Grades\n",
            "0   k1    jon    red    3rd\n",
            "1   k2  peter   blue    4th\n",
            "2   k1    ben  green    5th\n",
            "3   k2   gojo    red    3rd\n"
          ]
        }
      ]
    },
    {
      "cell_type": "code",
      "source": [
        "print(df.pivot(index=\"keys\",columns=\"Name\",values=[\"Houses\",\"Grades\"]))"
      ],
      "metadata": {
        "colab": {
          "base_uri": "https://localhost:8080/"
        },
        "id": "1553ViV0-JKE",
        "outputId": "f2777720-8b16-42fe-d3a7-4eb7f5f7e971"
      },
      "execution_count": null,
      "outputs": [
        {
          "output_type": "stream",
          "name": "stdout",
          "text": [
            "     Houses                 Grades                \n",
            "Name    ben gojo  jon peter    ben gojo  jon peter\n",
            "keys                                              \n",
            "k1    green  NaN  red   NaN    5th  NaN  3rd   NaN\n",
            "k2      NaN  red  NaN  blue    NaN  3rd  NaN   4th\n"
          ]
        }
      ]
    },
    {
      "cell_type": "code",
      "source": [
        "# melting\n",
        "dict={\n",
        "      \"Name\":[\"jon\",\"peter\",\"ben\",\"gojo\"],\n",
        "      \"Houses\":[\"red\",\"blue\",\"green\",\"red\"],\n",
        "      \"Grades\":[\"3rd\",'4th',\"5th\",\"3rd\"]}\n",
        "df=pd.DataFrame(dict)\n",
        "print(df)"
      ],
      "metadata": {
        "colab": {
          "base_uri": "https://localhost:8080/"
        },
        "id": "5H73bmHWA13i",
        "outputId": "5ba01b97-7499-452f-aaf0-b5781008bd13"
      },
      "execution_count": null,
      "outputs": [
        {
          "output_type": "stream",
          "name": "stdout",
          "text": [
            "    Name Houses Grades\n",
            "0    jon    red    3rd\n",
            "1  peter   blue    4th\n",
            "2    ben  green    5th\n",
            "3   gojo    red    3rd\n"
          ]
        }
      ]
    },
    {
      "cell_type": "code",
      "source": [
        "print(pd.melt(df,id_vars=[\"Name\"],value_vars=[\"Houses\",\"Grades\"]))"
      ],
      "metadata": {
        "colab": {
          "base_uri": "https://localhost:8080/"
        },
        "id": "KG6z8LCZBUcS",
        "outputId": "ae6e03bb-430b-40a4-d8e2-2b0bcab4a653"
      },
      "execution_count": null,
      "outputs": [
        {
          "output_type": "stream",
          "name": "stdout",
          "text": [
            "    Name variable  value\n",
            "0    jon   Houses    red\n",
            "1  peter   Houses   blue\n",
            "2    ben   Houses  green\n",
            "3   gojo   Houses    red\n",
            "4    jon   Grades    3rd\n",
            "5  peter   Grades    4th\n",
            "6    ben   Grades    5th\n",
            "7   gojo   Grades    3rd\n"
          ]
        }
      ]
    },
    {
      "cell_type": "code",
      "source": [
        "print(pd.melt(df,id_vars=[\"Name\"],value_vars=[\"Houses\",\"Grades\"],value_name=\"values_of Houses\",var_name=\"names\"))"
      ],
      "metadata": {
        "colab": {
          "base_uri": "https://localhost:8080/"
        },
        "id": "EQ8JApojDD7n",
        "outputId": "7ceec253-9e93-450d-b853-bbbe54b0bb57"
      },
      "execution_count": null,
      "outputs": [
        {
          "output_type": "stream",
          "name": "stdout",
          "text": [
            "    Name   names values_of Houses\n",
            "0    jon  Houses              red\n",
            "1  peter  Houses             blue\n",
            "2    ben  Houses            green\n",
            "3   gojo  Houses              red\n",
            "4    jon  Grades              3rd\n",
            "5  peter  Grades              4th\n",
            "6    ben  Grades              5th\n",
            "7   gojo  Grades              3rd\n"
          ]
        }
      ]
    }
  ]
}